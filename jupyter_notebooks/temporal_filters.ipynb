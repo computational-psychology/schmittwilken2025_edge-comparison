{
 "cells": [
  {
   "cell_type": "markdown",
   "id": "c3941d43",
   "metadata": {},
   "source": [
    "# Temporal filters\n",
    "\n",
    "\n",
    "\n",
    "## Imports"
   ]
  },
  {
   "cell_type": "code",
   "execution_count": null,
   "id": "2a70a00f",
   "metadata": {},
   "outputs": [],
   "source": [
    "import numpy as np\n",
    "import matplotlib.pyplot as plt\n",
    "import math\n",
    "import numpy.fft as ufft"
   ]
  },
  {
   "cell_type": "markdown",
   "id": "bb072292",
   "metadata": {},
   "source": [
    "## Helper functions"
   ]
  },
  {
   "cell_type": "code",
   "execution_count": null,
   "id": "a7112440",
   "metadata": {},
   "outputs": [],
   "source": [
    "def getConj(v1, v2):\n",
    "    return ufft.fftshift(np.append(v1[:-1], np.conj(np.flip(v2[1::]))))\n",
    "\n",
    "def getAmpSpectrum(v):\n",
    "    return np.abs(ufft.fftshift(ufft.fft(v)))\n",
    "\n",
    "def getImpulseRes(v):\n",
    "    return np.real(ufft.ifftshift(ufft.ifft(ufft.ifftshift(v))))"
   ]
  },
  {
   "cell_type": "markdown",
   "id": "0672173e",
   "metadata": {},
   "source": [
    "# Implementation of different temporal filters"
   ]
  },
  {
   "cell_type": "code",
   "execution_count": null,
   "id": "602b216f",
   "metadata": {},
   "outputs": [],
   "source": [
    "# Common parameters\n",
    "Nt = 100                     # N time steps\n",
    "dt = 0.005                   # step size in s\n",
    "t = np.arange(0, Nt) * dt"
   ]
  },
  {
   "cell_type": "markdown",
   "id": "0d4b6875",
   "metadata": {},
   "source": [
    "## V1 (Zheng et al., 2007)\n",
    "\n",
    "One drawback of using this temporal filter is that we manually set DC=0.\n",
    "Therefore, there is a small unsmooth transition at low SFs.\n",
    "\n",
    "Solution: Maybe rather use Watson-filter?"
   ]
  },
  {
   "cell_type": "code",
   "execution_count": null,
   "id": "6c316c7a",
   "metadata": {},
   "outputs": [],
   "source": [
    "def create_v1_tf(Nt=100, dt=0.001):\n",
    "    m1 = 69.3; m2 = 22.9; m3 = 8.1; m4 = 0.8  # Zheng2007-params\n",
    "    \n",
    "    # Compute transfer function\n",
    "    w = np.linspace(0, .5*(1/dt), int(Nt/2)+1); w[0] = 1. # prevent divison by 0\n",
    "    H = m1 * np.exp(-(w / m2) ** 2.) / (1. + (m3 / w)**m4)\n",
    "    \n",
    "    # Add phase information\n",
    "    x = np.linspace(0., .5*(1/dt), len(H))\n",
    "    H = H * np.sin(x) + H * np.cos(x) * 1j\n",
    "    w[0] = 0; w = getConj(w, -w); H[0] = H[0]*0; H = getConj(H, H)\n",
    "    \n",
    "    # Perform ifft to get impulse response\n",
    "    h = np.real(ufft.ifft(ufft.ifftshift(H)))\n",
    "    return h, np.abs(H), w\n",
    "\n",
    "# Create filter and visualize\n",
    "hz, Hz, wz = create_v1_tf(Nt, dt)\n",
    "\n",
    "plt.figure(figsize=(12, 2))\n",
    "plt.subplot(121); plt.plot(wz, Hz), plt.title(\"Frequency space\")\n",
    "plt.subplot(122); plt.plot(t,  hz), plt.title(\"Time space\")\n",
    "plt.show()"
   ]
  },
  {
   "cell_type": "markdown",
   "id": "94699ff2",
   "metadata": {},
   "source": [
    "## Temporal CSF (Watson, 1986)"
   ]
  },
  {
   "cell_type": "code",
   "execution_count": null,
   "id": "10c06d00",
   "metadata": {},
   "outputs": [],
   "source": [
    "def create_csf_tf(Nt=100, dt=0.001):\n",
    "    # Watson1986-parameters to fit Robson1966 data. Zeta is .9 but then DC != 0\n",
    "    kappa = 1.33; n1 = 9; n2 = 10; tau = 4.3/1000; zeta = 1; ksi = 269\n",
    "\n",
    "    # Compute impulse response\n",
    "    t = np.arange(0, Nt, 1) * dt\n",
    "    h1 = (t / tau)**(n1 - 1) * np.exp(-t / tau) / (tau * math.factorial(n1-1))\n",
    "    h2 = (t / (tau*kappa))**(n2 - 1) * np.exp(-t / (tau*kappa)) / (tau*kappa * math.factorial(n2-1))\n",
    "    h = ksi * (h1 - zeta * h2)\n",
    "\n",
    "    # Compute transfer function\n",
    "    w = np.linspace(0, .5* (1/dt), int(Nt/2)+1); w2pij = w * 2. * np.pi * 1j\n",
    "    H1 = (w2pij * tau + 1)**(-n1)\n",
    "    H2 = (w2pij * tau*kappa + 1)**(-n2)\n",
    "    H = np.abs(ksi * (H1 - zeta * H2))\n",
    "    return h*dt, getConj(H, H), getConj(w, -w)\n",
    "\n",
    "# Create filter and visualize\n",
    "hw, Hw, ww = create_csf_tf(Nt, dt)\n",
    "\n",
    "plt.figure(figsize=(12, 2))\n",
    "plt.subplot(121); plt.plot(ww, Hw), plt.title(\"Frequency space\")\n",
    "plt.subplot(122); plt.plot(t,  hw), plt.title(\"Time space\")\n",
    "plt.show()"
   ]
  },
  {
   "cell_type": "markdown",
   "id": "483a52f5",
   "metadata": {},
   "source": [
    "## M-cell filter (Benardete & Kaplan, 1999)"
   ]
  },
  {
   "cell_type": "code",
   "execution_count": null,
   "id": "cfee9009",
   "metadata": {},
   "outputs": [],
   "source": [
    "def create_mcell_tf(Nt=100, dt=0.001):\n",
    "    # Benardete-parameters. Units changed to seconds. Hs is .98 but then integral of impulse function != 0\n",
    "    c = .4; A = 567; D = 2.2/1000.; C_12 = 0.056; T0 = 54.6; tau_L = 1.41/1000.; N_L = 30.3; Hs = 1.\n",
    "\n",
    "    # Compute transfer function\n",
    "    w = np.linspace(0, .5*(1./dt), int(Nt/2)+1); w2pij = w*2.*np.pi*1j\n",
    "    H = A * np.exp(-w2pij*D) * (1. - Hs/(1. + w2pij*(T0/(1.+(c/C_12)**2.))/1000.)) * ((1./(1.+w2pij*tau_L))**N_L)\n",
    "    H = getConj(H, H)\n",
    "\n",
    "    # Perform ifft to get impulse response\n",
    "    h = np.real(ufft.ifft(ufft.ifftshift(H)))\n",
    "    return h, np.abs(H), getConj(w, -w)\n",
    "\n",
    "# Create filter and visualize\n",
    "hm, Hm, wm = create_mcell_tf(Nt, dt)\n",
    "\n",
    "plt.figure(figsize=(12, 2))\n",
    "plt.subplot(121), plt.plot(wm, Hm), plt.title(\"Frequency space\")\n",
    "plt.subplot(122), plt.plot(t,  hm), plt.title(\"Time space\")\n",
    "plt.show()"
   ]
  },
  {
   "cell_type": "markdown",
   "id": "584bd68d",
   "metadata": {},
   "source": [
    "## Kelly-CSF (1979)"
   ]
  },
  {
   "cell_type": "code",
   "execution_count": null,
   "id": "f4bc94fb",
   "metadata": {},
   "outputs": [],
   "source": [
    "def st_csf(sfs, tf):\n",
    "    sfs = np.abs(sfs)                  # for negative sfs\n",
    "    idx=np.where(sfs==0.); sfs[idx]=1. # fudge for sf=0\n",
    "    idx2=np.where(tf==0.); tf[idx2]=1. # fudge for sf=0\n",
    "    v = tf / sfs                       # calculate \"velocity\"\n",
    "    \n",
    "    # Calculate contrast sensitivity function:\n",
    "    k = 6.1 + 7.3 * np.abs(np.log10(v/3.))**3.\n",
    "    amax = 45.9 / (v + 2.)\n",
    "    csf = k * v * (2.*np.pi*sfs)**2. * np.exp((-4.*np.pi*sfs) / amax)\n",
    "    csfplt = 1. / csf\n",
    "    \n",
    "    if len(idx):\n",
    "        csf[idx]=0.; csfplt[idx]= 0.; sfs[idx]=0.    # undo fudge\n",
    "    if len(idx2):\n",
    "        csf[idx2]=0.; csfplt[idx2]= 0.; tf[idx2]=0. # undo fudge\n",
    "    return csf, csfplt"
   ]
  },
  {
   "cell_type": "code",
   "execution_count": null,
   "id": "af254e99",
   "metadata": {},
   "outputs": [],
   "source": [
    "tf = np.linspace(0, 100, 1000)\n",
    "csf05, _ = st_csf(sfs=[.5,], tf=tf)\n",
    "csf3, _ = st_csf(sfs=[3.,], tf=tf)\n",
    "csf9, _ = st_csf(sfs=[9.,], tf=tf)\n",
    "\n",
    "plt.figure(figsize=(8,3))\n",
    "plt.subplot(121)\n",
    "plt.plot(tf, csf05, label=\"0.5cpd\"); plt.plot(tf, csf3, label=\"3cpd\"); plt.plot(tf, csf9, label=\"9cpd\");\n",
    "plt.xlim(0.1,30); plt.yscale(\"log\"); plt.xscale(\"log\"); plt.ylim(0.5); plt.legend()\n",
    "plt.subplot(122)\n",
    "plt.plot(tf, csf05); plt.plot(tf, csf3); plt.plot(tf, csf9); plt.xlim(0,30)\n",
    "plt.show()"
   ]
  },
  {
   "cell_type": "markdown",
   "id": "9ccf35fc",
   "metadata": {},
   "source": [
    "# Visualize filters together"
   ]
  },
  {
   "cell_type": "code",
   "execution_count": null,
   "id": "33fc7c5d",
   "metadata": {},
   "outputs": [],
   "source": [
    "plt.figure(figsize=(6, 2))\n",
    "plt.subplot(121), plt.title(\"Frequency space\")\n",
    "plt.plot(ww, Hw/Hw.max(), label=\"watson-csf\")\n",
    "plt.plot(wz, Hz/Hz.max(), label=\"v1\")\n",
    "plt.plot(wm, Hm/Hm.max(), label=\"retina\")\n",
    "plt.plot(tf, csf05/csf05.max(), label=\"kelly-csf\")\n",
    "plt.legend(); plt.xlim(0, .5*(1/dt))\n",
    "\n",
    "plt.subplot(122), plt.title(\"Time space\")\n",
    "plt.plot(t, hz/hz.max(), label=\"v1\")\n",
    "plt.plot(t, hw/hw.max(), label=\"csf\")\n",
    "plt.plot(t, hm/hm.max(), label=\"mcell\"); plt.legend(); plt.xlim(0, Nt*dt);\n",
    "#plt.savefig('temporal_filters.png', dpi=300)"
   ]
  },
  {
   "cell_type": "markdown",
   "id": "d9a08b59",
   "metadata": {},
   "source": [
    "# Sanity checks: Can we reproduce the filters in the opposite space?\n",
    "\n",
    "## From time to frequency space"
   ]
  },
  {
   "cell_type": "code",
   "execution_count": null,
   "id": "61d017e3",
   "metadata": {},
   "outputs": [],
   "source": [
    "plt.figure(figsize=(12, 2))\n",
    "plt.subplot(131), plt.plot(wz, getAmpSpectrum(hz)), plt.plot(wz, Hz), plt.title('v1'), plt.xlim(0, .5*(1/dt))\n",
    "plt.subplot(132), plt.plot(ww, getAmpSpectrum(hw)), plt.plot(ww, Hw), plt.title('csf'), plt.xlim(0, .5*(1/dt))\n",
    "plt.subplot(133), plt.plot(wm, getAmpSpectrum(hm)), plt.plot(wm, Hm), plt.title('mcell'), plt.xlim(0, .5*(1/dt))\n",
    "plt.show()"
   ]
  },
  {
   "cell_type": "markdown",
   "id": "8d353a6a",
   "metadata": {},
   "source": [
    "## From frequency to time space\n",
    "\n",
    "Issue: we lost phase information."
   ]
  },
  {
   "cell_type": "code",
   "execution_count": null,
   "id": "39a3cd7b",
   "metadata": {},
   "outputs": [],
   "source": [
    "plt.figure(figsize=(12, 2))\n",
    "plt.subplot(131), plt.plot(t, getImpulseRes(Hz)), plt.plot(t, hz), plt.title('v1')\n",
    "plt.subplot(132), plt.plot(t, getImpulseRes(Hw)), plt.plot(t, hw), plt.title('csf')\n",
    "plt.subplot(133), plt.plot(t, getImpulseRes(Hm)), plt.plot(t, hm), plt.title('mcell')\n",
    "plt.show()"
   ]
  },
  {
   "cell_type": "markdown",
   "id": "1df36a99",
   "metadata": {},
   "source": [
    "# Control: How many samples and which sampling frequency suffice?\n",
    "\n",
    "In the active edge model paper, we used a sampling frequency of $f=100Hz$ and a time period of $T=0.2$ seconds."
   ]
  },
  {
   "cell_type": "code",
   "execution_count": null,
   "id": "8287fbc2",
   "metadata": {},
   "outputs": [],
   "source": [
    "N2 = 40; dt2 = 0.005\n",
    "h2, _, _ = create_csf_tf(N2, dt2)\n",
    "\n",
    "N1 = 200; dt1 = 0.001\n",
    "h1, _, _ = create_csf_tf(N1, dt1)\n",
    "\n",
    "t1, t2 = np.arange(0,N1)*dt1, np.arange(0,N2)*dt2\n",
    "\n",
    "plt.figure(figsize=(12, 2))\n",
    "plt.subplot(121); plt.plot(t2, h2, '.-');          plt.plot(t1, h1),          plt.title(\"Unnormalized\")\n",
    "plt.subplot(122); plt.plot(t2, h2/h2.max(), '.-'); plt.plot(t1, h1/h1.max()), plt.title(\"Normalized\")\n",
    "plt.show()\n",
    "\n",
    "print('Blue:\\t f=%.0f,  T=%.2f' % (1/dt2, N2*dt2))\n",
    "print('Orange:\\t f=%.0f, T=%.2f' % (1/dt1, N1*dt1))"
   ]
  },
  {
   "cell_type": "code",
   "execution_count": null,
   "id": "b3b545b6",
   "metadata": {},
   "outputs": [],
   "source": []
  }
 ],
 "metadata": {
  "kernelspec": {
   "display_name": "Python 3 (ipykernel)",
   "language": "python",
   "name": "python3"
  },
  "language_info": {
   "codemirror_mode": {
    "name": "ipython",
    "version": 3
   },
   "file_extension": ".py",
   "mimetype": "text/x-python",
   "name": "python",
   "nbconvert_exporter": "python",
   "pygments_lexer": "ipython3",
   "version": "3.10.12"
  },
  "toc": {
   "base_numbering": 1,
   "nav_menu": {},
   "number_sections": true,
   "sideBar": true,
   "skip_h1_title": false,
   "title_cell": "Table of Contents",
   "title_sidebar": "Contents",
   "toc_cell": false,
   "toc_position": {},
   "toc_section_display": true,
   "toc_window_display": false
  },
  "varInspector": {
   "cols": {
    "lenName": 16,
    "lenType": 16,
    "lenVar": 40
   },
   "kernels_config": {
    "python": {
     "delete_cmd_postfix": "",
     "delete_cmd_prefix": "del ",
     "library": "var_list.py",
     "varRefreshCmd": "print(var_dic_list())"
    },
    "r": {
     "delete_cmd_postfix": ") ",
     "delete_cmd_prefix": "rm(",
     "library": "var_list.r",
     "varRefreshCmd": "cat(var_dic_list()) "
    }
   },
   "types_to_exclude": [
    "module",
    "function",
    "builtin_function_or_method",
    "instance",
    "_Feature"
   ],
   "window_display": false
  }
 },
 "nbformat": 4,
 "nbformat_minor": 5
}
