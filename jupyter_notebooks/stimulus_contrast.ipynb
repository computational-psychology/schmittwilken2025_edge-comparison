{
 "cells": [
  {
   "cell_type": "markdown",
   "id": "e416ec1e",
   "metadata": {},
   "source": [
    "# A word about stimulus contrast\n",
    "\n",
    "For users who want to pursue this line of research, keep in mind that the stimulus resolution (ppd) and the amount of padding affect our stimulus definition when defined in rms contrast.\n",
    "There is a linear relationship between rms contrast and Michelson contrast within one edge type, i.e. an increase in rms contrast linearly translate to mc contrast.\n",
    "\n",
    "Since we keep stimulus resolution and padding constant in our experiment and simulations, this is not relevant.\n",
    "However, this might be relevant for further simulations in which users want to / need to change the stimulus definition to match stimulus definitions and model requirements.\n",
    "\n",
    "\n",
    "## Imports"
   ]
  },
  {
   "cell_type": "code",
   "execution_count": null,
   "id": "9e7baa7d",
   "metadata": {},
   "outputs": [],
   "source": [
    "import numpy as np\n",
    "import matplotlib.pyplot as plt\n",
    "import pandas as pd\n",
    "import sys\n",
    "from stimupy.noises.whites import white as create_whitenoise\n",
    "from stimupy.noises.narrowbands import narrowband as create_narrownoise\n",
    "from stimupy.noises.naturals import one_over_f as create_pinknoise\n",
    "\n",
    "sys.path.insert(1, '../mechanistic_models')\n",
    "from functions import pull_noise_mask, create_edge, add_padding\n",
    "from experimental_data.exp_params import stim_params as sparams"
   ]
  },
  {
   "cell_type": "markdown",
   "id": "ab38cbe3",
   "metadata": {},
   "source": [
    "## Helper functions"
   ]
  },
  {
   "cell_type": "code",
   "execution_count": null,
   "id": "0a575444",
   "metadata": {},
   "outputs": [],
   "source": [
    "def rms(img):\n",
    "    return img.std() / img.mean()\n",
    "\n",
    "def mc(img):\n",
    "    return (img.max() - img.min()) / (img.max() + img.min())"
   ]
  },
  {
   "cell_type": "markdown",
   "id": "c5430c85",
   "metadata": {},
   "source": [
    "# Stimulus parameters"
   ]
  },
  {
   "cell_type": "code",
   "execution_count": null,
   "id": "324b9186",
   "metadata": {},
   "outputs": [],
   "source": [
    "stimSize = sparams[\"stim_size\"]\n",
    "ppd = sparams[\"ppd\"]\n",
    "meanLum = sparams[\"mean_lum\"]\n",
    "\n",
    "# Edge parameters\n",
    "edgeConds = sparams[\"edge_widths\"]\n",
    "edgeExponent = sparams[\"edge_exponent\"]\n",
    "\n",
    "# Noise parameters\n",
    "noiseConds = sparams[\"noise_types\"]\n",
    "noiseContrast = sparams[\"noise_contrast\"]\n",
    "\n",
    "# Read psychophysical data\n",
    "df = pd.read_csv(\"../experimental_data/expdata_pooled.txt\", sep=\" \")\n",
    "df"
   ]
  },
  {
   "cell_type": "markdown",
   "id": "13188999",
   "metadata": {},
   "source": [
    "# Changing ppd"
   ]
  },
  {
   "cell_type": "code",
   "execution_count": null,
   "id": "97342269",
   "metadata": {},
   "outputs": [],
   "source": [
    "def changeEdgePPD(ppd, sparams):\n",
    "    c = df[(df.noise==noiseConds[2]) & (df.edge==edgeConds[0])].contrasts.iloc[3]\n",
    "    e = create_edge(c, edgeConds[0], {**sparams, \"ppd\": ppd})\n",
    "    print(\"PPD=%.0f\\t rms: %.3f; mc: %.3f; min: %.1f; max: %.1f\" % (ppd, rms(e), mc(e), e.min(), e.max()))\n",
    "    return e\n",
    "\n",
    "plt.figure(figsize=(10,4))\n",
    "plt.subplot(121); plt.imshow(changeEdgePPD(44,  sparams), cmap='gray'), plt.colorbar()\n",
    "plt.subplot(122); plt.imshow(changeEdgePPD(500, sparams), cmap='gray'), plt.colorbar()\n",
    "plt.show()"
   ]
  },
  {
   "cell_type": "markdown",
   "id": "8a75d774",
   "metadata": {},
   "source": [
    "# Padding"
   ]
  },
  {
   "cell_type": "code",
   "execution_count": null,
   "id": "fd5e6e82",
   "metadata": {},
   "outputs": [],
   "source": [
    "def changeEdgePad(pad, sparams):\n",
    "    c = df[(df.noise==noiseConds[2]) & (df.edge==edgeConds[0])].contrasts.iloc[3]\n",
    "    e = create_edge(c, edgeConds[0], sparams)\n",
    "    e = add_padding(e, pad, e.mean())\n",
    "    print(\"Pad=%.0f\\t rms: %.3f; mc: %.3f; min: %.1f; max: %.1f\" % (pad, rms(e), mc(e), e.min(), e.max()))\n",
    "    return e\n",
    "\n",
    "plt.figure(figsize=(10,4))\n",
    "plt.subplot(121); plt.imshow(changeEdgePad(0,  sparams), cmap='gray'), plt.colorbar()\n",
    "plt.subplot(122); plt.imshow(changeEdgePad(50, sparams), cmap='gray'), plt.colorbar()\n",
    "plt.show()"
   ]
  },
  {
   "cell_type": "markdown",
   "id": "57754944",
   "metadata": {},
   "source": [
    "# Relationship Michelson + RMS-contrast for all stimuli"
   ]
  },
  {
   "cell_type": "code",
   "execution_count": null,
   "id": "af556010",
   "metadata": {},
   "outputs": [],
   "source": [
    "vrms = np.zeros([len(noiseConds), len(edgeConds), 5])\n",
    "vmc = np.zeros([len(noiseConds), len(edgeConds), 5])\n",
    "\n",
    "for ni, n in enumerate(noiseConds):\n",
    "    for ei, e in enumerate(edgeConds):\n",
    "        for ci, c in enumerate(df[(df.noise==n) & (df.edge==e)].contrasts):\n",
    "            es = create_edge(c, e, sparams)\n",
    "            vrms[ni, ei, ci] = rms(es)\n",
    "            vmc[ni, ei, ci] = mc(es)"
   ]
  },
  {
   "cell_type": "code",
   "execution_count": null,
   "id": "594ce3fa",
   "metadata": {},
   "outputs": [],
   "source": [
    "for ei in range(len(edgeConds)):\n",
    "    plt.plot(vrms[:,ei,:].flatten(), vmc[:,ei,:].flatten(), '.')\n",
    "    plt.xlabel(\"rms\"); plt.ylabel(\"mc\"); plt.legend(edgeConds)"
   ]
  },
  {
   "cell_type": "code",
   "execution_count": null,
   "id": "0bb4bfd5",
   "metadata": {},
   "outputs": [],
   "source": []
  }
 ],
 "metadata": {
  "kernelspec": {
   "display_name": "Python 3 (ipykernel)",
   "language": "python",
   "name": "python3"
  },
  "language_info": {
   "codemirror_mode": {
    "name": "ipython",
    "version": 3
   },
   "file_extension": ".py",
   "mimetype": "text/x-python",
   "name": "python",
   "nbconvert_exporter": "python",
   "pygments_lexer": "ipython3",
   "version": "3.10.12"
  },
  "toc": {
   "base_numbering": 1,
   "nav_menu": {},
   "number_sections": true,
   "sideBar": true,
   "skip_h1_title": false,
   "title_cell": "Table of Contents",
   "title_sidebar": "Contents",
   "toc_cell": false,
   "toc_position": {},
   "toc_section_display": true,
   "toc_window_display": false
  },
  "varInspector": {
   "cols": {
    "lenName": 16,
    "lenType": 16,
    "lenVar": 40
   },
   "kernels_config": {
    "python": {
     "delete_cmd_postfix": "",
     "delete_cmd_prefix": "del ",
     "library": "var_list.py",
     "varRefreshCmd": "print(var_dic_list())"
    },
    "r": {
     "delete_cmd_postfix": ") ",
     "delete_cmd_prefix": "rm(",
     "library": "var_list.r",
     "varRefreshCmd": "cat(var_dic_list()) "
    }
   },
   "types_to_exclude": [
    "module",
    "function",
    "builtin_function_or_method",
    "instance",
    "_Feature"
   ],
   "window_display": false
  }
 },
 "nbformat": 4,
 "nbformat_minor": 5
}
