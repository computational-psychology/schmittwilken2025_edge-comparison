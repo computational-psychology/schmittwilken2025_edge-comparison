{
 "cells": [
  {
   "cell_type": "markdown",
   "id": "c86cb583",
   "metadata": {},
   "source": [
    "# Run mechanistic models step-by-step\n",
    "\n",
    "## Imports"
   ]
  },
  {
   "cell_type": "code",
   "execution_count": null,
   "id": "8f24df6a",
   "metadata": {},
   "outputs": [],
   "source": [
    "import numpy as np\n",
    "import matplotlib.pyplot as plt\n",
    "import sys\n",
    "import pandas as pd\n",
    "from scipy.signal import fftconvolve\n",
    "\n",
    "sys.path.insert(1, '../mechanistic_models')\n",
    "from functions import create_edge, create_noise, create_loggabors, create_isologgabors, \\\n",
    "    create_drift, apply_drift, add_padding, remove_padding, apply_filters, naka_rushton, \\\n",
    "    watson_tf, kelly_csf, zheng_tf, benardete_tf, compute_dprime\n",
    "\n",
    "sys.path.insert(1, '../experimental_data')\n",
    "from exp_params import stim_params as sparams"
   ]
  },
  {
   "cell_type": "markdown",
   "id": "6fcf94c9",
   "metadata": {},
   "source": [
    "## Parameters\n"
   ]
  },
  {
   "cell_type": "code",
   "execution_count": null,
   "id": "2783210f",
   "metadata": {},
   "outputs": [],
   "source": [
    "tempBool = True                  # True=active model. False=spatial model"
   ]
  },
  {
   "cell_type": "code",
   "execution_count": null,
   "id": "a708e2de",
   "metadata": {},
   "outputs": [],
   "source": [
    "fos = [0.5, 3., 9.]              # center SFs of log-Gabor filters\n",
    "sigma_fo = 0.5945                # from Schütt & Wichmann (2017)\n",
    "sigma_angleo = 0.2965            # from Schütt & Wichmann (2017)\n",
    "n_trials = 1                     # average performance over n-trials\n",
    "gain = None                      # gain control\n",
    "Nt = 40; dt = 0.005              # number of steps; step size (s)\n",
    "D = 20./(60.**2.)                # drift diffusion constant\n",
    "tempType = \"watson\"              # choose temporal filter (watson, zheng, benardete, kelly)\n",
    "collapseTime = True              # collapse temporal dimension before normalization\n",
    "isoSF = False                    # isotropic spatial filter?\n",
    "\n",
    "# Constant params\n",
    "nFilters = len(fos)\n",
    "ppd = sparams[\"ppd\"]             # pixel resolution\n",
    "fac = int(ppd*2)                 # padding to avoid border artefacts\n",
    "sparams[\"n_masks\"] = n_trials    # use same noise masks everytime"
   ]
  },
  {
   "cell_type": "markdown",
   "id": "76fc2147",
   "metadata": {},
   "source": [
    "## Read psychophysical data"
   ]
  },
  {
   "cell_type": "code",
   "execution_count": null,
   "id": "3c47264d",
   "metadata": {},
   "outputs": [],
   "source": [
    "df = pd.read_csv(\"../experimental_data/expdata_pooled.txt\", sep=\" \")\n",
    "\n",
    "noise_conds = np.unique(df[\"noise\"])   # Noise conditions\n",
    "edge_conds = np.unique(df[\"edge\"])     # Edge conditions"
   ]
  },
  {
   "cell_type": "markdown",
   "id": "814d89fa",
   "metadata": {},
   "source": [
    "## Create example stimulus"
   ]
  },
  {
   "cell_type": "code",
   "execution_count": null,
   "id": "3b7dffe2",
   "metadata": {},
   "outputs": [],
   "source": [
    "# Select example condition + contrast\n",
    "n = noise_conds[0]; e = edge_conds[1]\n",
    "print(n, e)\n",
    "\n",
    "df_cond = df[(df[\"noise\"]==n) & (df[\"edge\"]==e)]\n",
    "ncorrect = df_cond[\"ncorrect\"].to_numpy()\n",
    "ntrials = df_cond[\"ntrials\"].to_numpy()\n",
    "lamb = np.unique(df_cond[\"lambda\"].to_numpy())[0]\n",
    "\n",
    "# Create edge and noise stimulus\n",
    "noise = create_noise(n, sparams)\n",
    "edge = create_edge(df_cond[\"contrasts\"].to_numpy()[4]*10, e, sparams)\n",
    "\n",
    "plt.figure(figsize=(12, 3))\n",
    "plt.subplot(131); plt.imshow(noise, cmap='gray'); plt.colorbar(), plt.title(n)\n",
    "plt.subplot(132); plt.imshow(edge,  cmap='gray'); plt.colorbar(), plt.title(e)\n",
    "plt.subplot(133); plt.imshow(edge+noise, cmap='gray'); plt.colorbar()\n",
    "plt.show()"
   ]
  },
  {
   "cell_type": "markdown",
   "id": "87f07c9d",
   "metadata": {},
   "source": [
    "# Create spatiotemporal filters\n",
    "\n",
    "## Spatial filters"
   ]
  },
  {
   "cell_type": "code",
   "execution_count": null,
   "id": "330da8c6",
   "metadata": {},
   "outputs": [],
   "source": [
    "# Create SF axes + log-Gabor filters\n",
    "nX = int(sparams[\"stim_size\"]*ppd)\n",
    "fs = np.fft.fftshift(np.fft.fftfreq(nX, d=1./ppd))\n",
    "fx, fy = np.meshgrid(fs, fs)\n",
    "\n",
    "if isoSF:\n",
    "    loggabors = create_isologgabors(fx, fy, fos, sigma_fo)\n",
    "else:\n",
    "    loggabors = create_loggabors(fx, fy, fos, sigma_fo, 0., sigma_angleo)\n",
    "\n",
    "plt.figure(figsize=(12, 2))\n",
    "for i in range(nFilters):\n",
    "    plt.subplot(1, nFilters, i+1), plt.imshow(loggabors[i], cmap=\"coolwarm\")"
   ]
  },
  {
   "cell_type": "markdown",
   "id": "36b8ebd9",
   "metadata": {},
   "source": [
    "## Temporal filter"
   ]
  },
  {
   "cell_type": "code",
   "execution_count": null,
   "id": "d73843db",
   "metadata": {},
   "outputs": [],
   "source": [
    "# Create temporal filter(s)\n",
    "if tempType == \"watson\":\n",
    "    tempFilter = watson_tf(Nt, dt)\n",
    "    tempFilterP = np.fft.fftshift(np.fft.fft(tempFilter)) # fft\n",
    "elif tempType == \"kelly\":\n",
    "    tf = np.fft.fftshift(np.fft.fftfreq(Nt, d=dt))\n",
    "    Tcsf05 = kelly_csf(sfs=[.5,], tfs=tf)\n",
    "    Tcsf3 = kelly_csf(sfs=[3.,], tfs=tf)\n",
    "    Tcsf9 = kelly_csf(sfs=[9.,], tfs=tf)\n",
    "    tempFilterP = np.array([Tcsf05, Tcsf3, Tcsf9])\n",
    "elif tempType == \"zheng\":\n",
    "    tempFilterP = zheng_tf(Nt, dt)\n",
    "elif tempType == \"benardete\":\n",
    "    tempFilterP = benardete_tf(Nt, dt)\n",
    "\n",
    "tempFilterP = tempFilterP / tempFilterP.max()  # Normalize for now\n",
    "\n",
    "plt.figure(figsize=(8,2))\n",
    "plt.plot(np.fft.fftshift(np.fft.fftfreq(Nt, d=dt)), np.abs(tempFilterP), '.-'); #plt.xlim(0,50)\n",
    "plt.show()"
   ]
  },
  {
   "cell_type": "markdown",
   "id": "f23dbe82",
   "metadata": {},
   "source": [
    "# Create drift trace"
   ]
  },
  {
   "cell_type": "code",
   "execution_count": null,
   "id": "d363f89e",
   "metadata": {},
   "outputs": [],
   "source": [
    "# Create drift instance\n",
    "driftFloat, driftInt = create_drift(Nt*dt-dt, 1./dt, ppd, D)\n",
    "\n",
    "plt.figure(figsize=(12, 2))\n",
    "plt.subplot(121); plt.plot(driftFloat[0,:], '.'); plt.plot(driftInt[0,:])  # plot x\n",
    "plt.subplot(122); plt.plot(driftFloat[1,:], '.'); plt.plot(driftInt[1,:])  # plot y\n",
    "plt.show()"
   ]
  },
  {
   "cell_type": "code",
   "execution_count": null,
   "id": "1cb8201d",
   "metadata": {},
   "outputs": [],
   "source": [
    "# Optional: Apply drift to stimulus and animate movie (uncomment)\n",
    "import matplotlib.animation as animation\n",
    "\n",
    "#stimVid = apply_drift(edge+noise, driftInt, edge.mean())\n",
    "#stimVid.shape\n",
    "#vid = stimVid\n",
    "\n",
    "#fig, ax = plt.subplots(1, 2, figsize=(10, 4))\n",
    "def animate(t):\n",
    "    plt.rcParams[\"animation.html\"] = \"jshtml\"\n",
    "    plt.rcParams['figure.dpi'] = 60  \n",
    "    plt.ioff()\n",
    "    \n",
    "    ax[0].imshow(vid[:,:,t], cmap='gray')\n",
    "    ax[1].plot(np.arange(0, t), vid[20,20,0:t], 'k.')\n",
    "    plt.xlim(0, vid.shape[2]), plt.ylim(vid.min(), vid.max())\n",
    "\n",
    "#animation.FuncAnimation(fig, animate, frames=vid.shape[2]) # show animation"
   ]
  },
  {
   "cell_type": "markdown",
   "id": "c1597760",
   "metadata": {},
   "source": [
    "# Run model\n",
    "\n",
    "## Model parameters"
   ]
  },
  {
   "cell_type": "code",
   "execution_count": null,
   "id": "4a5f4491",
   "metadata": {},
   "outputs": [],
   "source": [
    "mparams = {\"n_filters\": nFilters,\n",
    "           \"fos\": fos,\n",
    "           \"sigma_fo\": sigma_fo,\n",
    "           \"sigma_angleo\": sigma_angleo,\n",
    "           \"loggabors\": loggabors,\n",
    "           \"fac\": fac,\n",
    "           \"nX\": nX,\n",
    "           \"n_trials\": n_trials,\n",
    "           \"gain\": gain,\n",
    "#           \"outDir\": outDir,\n",
    "           \"sameNoise\": True,\n",
    "           \"noiseVar\": 1.,\n",
    "           \"Nt\": Nt,\n",
    "           \"dt\": dt,\n",
    "           \"D\": D,\n",
    "           \"tempType\": tempType,\n",
    "           #\"tempFilter\": tempFilter,\n",
    "           \"tempFilterP\": tempFilterP,\n",
    "           \"tempBool\": tempBool,\n",
    "           \"collapseTime\": collapseTime,\n",
    "           \"drift\": [driftInt,],\n",
    "           \"isoSF\": isoSF,\n",
    "           \"trial\": 0,\n",
    "           }"
   ]
  },
  {
   "cell_type": "markdown",
   "id": "c0ecafd8",
   "metadata": {},
   "source": [
    "## Apply filters"
   ]
  },
  {
   "cell_type": "code",
   "execution_count": null,
   "id": "bca9e883",
   "metadata": {},
   "outputs": [],
   "source": [
    "out = apply_filters(edge+noise, mparams)\n",
    "out2 = apply_filters(edge, mparams)\n",
    "\n",
    "print(\"Total mean activity:\", out.mean())\n",
    "print(\"Max:\", out.max())\n",
    "print(\"Min:\", out.min())"
   ]
  },
  {
   "cell_type": "code",
   "execution_count": null,
   "id": "6bf9e37e",
   "metadata": {},
   "outputs": [],
   "source": [
    "# Plot activation of each channel\n",
    "plt.figure(figsize=(15, 4))\n",
    "for i in range(nFilters):\n",
    "    if tempBool and not collapseTime:\n",
    "        plt.subplot(1, 3, i+1), plt.imshow(out[:,:,i,:].mean(2), cmap=\"coolwarm\"); plt.colorbar()\n",
    "    else:\n",
    "        plt.subplot(1, 3, i+1), plt.imshow(out[:,:,i], cmap=\"coolwarm\"); plt.colorbar()\n",
    "plt.show()"
   ]
  },
  {
   "cell_type": "markdown",
   "id": "93d7f873",
   "metadata": {},
   "source": [
    "## Apply Naka-Rushton"
   ]
  },
  {
   "cell_type": "code",
   "execution_count": null,
   "id": "d6880049",
   "metadata": {},
   "outputs": [],
   "source": [
    "# Naka-parameters\n",
    "alphas=(3., 4., 1.); beta=1e-15; eta=1.2; kappa=6.\n",
    "\n",
    "outNaka1 = naka_rushton(out, alphas, beta, eta, kappa, mparams[\"gain\"])\n",
    "outNaka2 = naka_rushton(out2, alphas, beta, eta, kappa, mparams[\"gain\"])"
   ]
  },
  {
   "cell_type": "code",
   "execution_count": null,
   "id": "37e80eb2",
   "metadata": {},
   "outputs": [],
   "source": [
    "# Plot activation of each channel\n",
    "plt.figure(figsize=(15, 4))\n",
    "for i in range(nFilters):\n",
    "    if tempBool and not collapseTime:\n",
    "        plt.subplot(1, 3, i+1), plt.imshow(outNaka1[:,:,i,:].mean(2), cmap=\"coolwarm\"); plt.colorbar()\n",
    "    else:\n",
    "        plt.subplot(1, 3, i+1), plt.imshow(outNaka1[:,:,i], cmap=\"coolwarm\"); plt.colorbar()\n",
    "plt.show()"
   ]
  },
  {
   "cell_type": "markdown",
   "id": "80d034e5",
   "metadata": {},
   "source": [
    "## Decoding\n",
    "\n",
    "Note that performance (both for humans and the models) is dependent on the noise instance.\n",
    "That's why we average performance over many noise instances to predict performance."
   ]
  },
  {
   "cell_type": "code",
   "execution_count": null,
   "id": "75fdfbbe",
   "metadata": {},
   "outputs": [],
   "source": [
    "pc = compute_dprime(outNaka1, outNaka2, lamb, mparams[\"noiseVar\"])  # dprime\n",
    "\n",
    "print(\"Predicted performance:\", pc)"
   ]
  },
  {
   "cell_type": "markdown",
   "id": "47fe19cd",
   "metadata": {},
   "source": [
    "# Extra: oriented vs unoriented filters\n",
    "\n",
    "As we have shown in Schmittwilken & Maertens (2022), fixational eye movements obviate orientation-selectivity for edge extraction.\n",
    "In the following, we illustrate this process again.\n",
    "\n",
    "In the absence of FEMs, we need orientation-selective filters to generate high activities at the location where the edge is placed in the visual input. In the presence of FEMs, orientation-selectivity rather leads to strong activations adjacent to the edge.\n",
    "\n",
    "We find the opposite for unoriented filters."
   ]
  },
  {
   "cell_type": "code",
   "execution_count": null,
   "id": "4c40c6d7",
   "metadata": {
    "hide_input": true
   },
   "outputs": [],
   "source": [
    "def apply_filters_(stim, mparams):\n",
    "    stim = add_padding(stim, mparams[\"fac\"], stim.mean(), axis=1) # padding\n",
    "    if mparams[\"isoSF\"]:\n",
    "        # for the odd-symmetric filter, we did not need padding in filter orientation\n",
    "        stim = add_padding(stim, mparams[\"fac\"], stim.mean(), axis=0)\n",
    "    \n",
    "    # further remove border artefacts through masking\n",
    "    fc = int(mparams[\"nX\"] * 0.15)\n",
    "    fc += fc % 2\n",
    "    mask = np.pad(np.ones([mparams[\"nX\"]-fc, mparams[\"nX\"]-fc]), (int(fc/2), int(fc/2)))\n",
    "\n",
    "    if mparams[\"tempBool\"]:\n",
    "        out = np.zeros([mparams[\"nX\"], mparams[\"nX\"], mparams[\"n_filters\"], mparams[\"Nt\"]])\n",
    "        mask = np.expand_dims(mask, (-1,-2))\n",
    "    else:\n",
    "        out = np.zeros([mparams[\"nX\"], mparams[\"nX\"], mparams[\"n_filters\"]])\n",
    "        mask = np.expand_dims(mask, -1)\n",
    "    \n",
    "    # Spatial filtering\n",
    "    for fil in range(mparams[\"n_filters\"]):\n",
    "        outTemp = fftconvolve(stim, mparams[\"loggabors\"][fil], mode='same')\n",
    "        outTemp = remove_padding(outTemp, mparams[\"fac\"], axis=1)\n",
    "        if mparams[\"isoSF\"]:\n",
    "            outTemp = remove_padding(outTemp, mparams[\"fac\"], axis=0)\n",
    "    \n",
    "        # Temporal filtering (padding in time does not change output)\n",
    "        if mparams[\"tempBool\"]:\n",
    "            # temporal filtering in freq space because it seems more robust\n",
    "            outTemp = apply_drift(outTemp, mparams[\"drift\"][mparams[\"trial\"]], outTemp.mean())\n",
    "            if mparams[\"tempType\"] == \"kelly\":\n",
    "                thisFilt = np.expand_dims(mparams[\"tempFilterP\"][fil,:], (0,1))\n",
    "            else:\n",
    "                thisFilt = np.expand_dims(mparams[\"tempFilterP\"], (0,1))\n",
    "            outTemp = np.fft.fftshift(np.fft.fftn(outTemp)) * thisFilt\n",
    "            out[:, :, fil, :] = np.real(np.fft.ifftn(np.fft.ifftshift(outTemp)))\n",
    "        else:\n",
    "            out[:, :, fil] = outTemp\n",
    "    return out * mask"
   ]
  },
  {
   "cell_type": "code",
   "execution_count": null,
   "id": "9b2d1e64",
   "metadata": {},
   "outputs": [],
   "source": [
    "sfi = 0\n",
    "cmap = \"coolwarm\""
   ]
  },
  {
   "cell_type": "code",
   "execution_count": null,
   "id": "37067672",
   "metadata": {},
   "outputs": [],
   "source": [
    "# Oriented log-Gabors\n",
    "loggabors = create_loggabors(fx, fy, fos, sigma_fo, 0., sigma_angleo)\n",
    "mparams[\"loggabors\"] = loggabors; mparams[\"isoSF\"] = False\n",
    "\n",
    "# No drift\n",
    "mparams[\"tempBool\"] = False\n",
    "outOriNo = apply_filters_(edge, mparams)\n",
    "\n",
    "# Drift\n",
    "mparams[\"tempBool\"] = True\n",
    "outOriYes = apply_filters_(edge, mparams)\n",
    "\n",
    "plt.figure(figsize=(10,4))\n",
    "plt.subplot(241); plt.imshow(edge, cmap=\"gray\"); plt.title(\"Edge\"); plt.axis(\"off\")\n",
    "plt.subplot(242); plt.imshow(loggabors[sfi], cmap=cmap); plt.title(\"Spatial filter\"); plt.axis(\"off\");\n",
    "plt.subplot(243); plt.plot(outOriNo[int(nX/2),:,sfi]); plt.title(\"No drift\"); plt.axis(\"off\");\n",
    "plt.subplot(244); plt.plot(outOriNo[int(nX/2),:,sfi]); plt.title(\"Drift\"); plt.axis(\"off\");\n",
    "plt.subplot(247); plt.imshow(np.abs(outOriNo[:,:,sfi]), cmap=cmap); plt.axis(\"off\"); #plt.colorbar()\n",
    "plt.subplot(248); plt.imshow(np.abs(outOriYes[:,:,sfi,:]).mean(2), cmap=cmap); plt.axis(\"off\"); #plt.colorbar();\n",
    "#plt.savefig('oriented.png', dpi=300)"
   ]
  },
  {
   "cell_type": "code",
   "execution_count": null,
   "id": "e4595347",
   "metadata": {},
   "outputs": [],
   "source": [
    "# Unoriented log-Gabors\n",
    "loggabors = create_isologgabors(fx, fy, fos, sigma_fo)\n",
    "mparams[\"loggabors\"] = loggabors; mparams[\"isoSF\"] = True\n",
    "\n",
    "# No drift\n",
    "mparams[\"tempBool\"] = False\n",
    "outUnoriNo = apply_filters_(edge, mparams)\n",
    "\n",
    "# Drift\n",
    "mparams[\"tempBool\"] = True\n",
    "outUnoriYes = apply_filters_(edge, mparams)\n",
    "\n",
    "plt.figure(figsize=(10,4))\n",
    "plt.subplot(241); plt.imshow(edge, cmap=\"gray\"); plt.title(\"Edge\"); plt.axis(\"off\");\n",
    "plt.subplot(242); plt.imshow(loggabors[sfi], cmap=cmap); plt.title(\"Spatial filter\"); plt.axis(\"off\");\n",
    "plt.subplot(243); plt.plot(outUnoriNo[int(nX/2),:,sfi]); plt.title(\"No drift\"); plt.axis(\"off\");\n",
    "plt.subplot(244); plt.plot(outUnoriNo[int(nX/2),:,sfi]); plt.title(\"Drift\"); plt.axis(\"off\");\n",
    "plt.subplot(247); plt.imshow(np.abs(outUnoriNo[:,:,sfi]), cmap=cmap); plt.axis(\"off\"); #plt.colorbar()\n",
    "plt.subplot(248); plt.imshow(np.abs(outUnoriYes[:,:,sfi,:]).mean(2), cmap=cmap); plt.axis(\"off\"); #plt.colorbar();\n",
    "#plt.savefig('unoriented.png', dpi=300)"
   ]
  },
  {
   "cell_type": "code",
   "execution_count": null,
   "id": "78431a39",
   "metadata": {},
   "outputs": [],
   "source": []
  }
 ],
 "metadata": {
  "kernelspec": {
   "display_name": "Python 3 (ipykernel)",
   "language": "python",
   "name": "python3"
  },
  "language_info": {
   "codemirror_mode": {
    "name": "ipython",
    "version": 3
   },
   "file_extension": ".py",
   "mimetype": "text/x-python",
   "name": "python",
   "nbconvert_exporter": "python",
   "pygments_lexer": "ipython3",
   "version": "3.10.12"
  },
  "toc": {
   "base_numbering": 1,
   "nav_menu": {},
   "number_sections": true,
   "sideBar": true,
   "skip_h1_title": false,
   "title_cell": "Table of Contents",
   "title_sidebar": "Contents",
   "toc_cell": false,
   "toc_position": {},
   "toc_section_display": true,
   "toc_window_display": false
  },
  "varInspector": {
   "cols": {
    "lenName": 16,
    "lenType": 16,
    "lenVar": 40
   },
   "kernels_config": {
    "python": {
     "delete_cmd_postfix": "",
     "delete_cmd_prefix": "del ",
     "library": "var_list.py",
     "varRefreshCmd": "print(var_dic_list())"
    },
    "r": {
     "delete_cmd_postfix": ") ",
     "delete_cmd_prefix": "rm(",
     "library": "var_list.r",
     "varRefreshCmd": "cat(var_dic_list()) "
    }
   },
   "types_to_exclude": [
    "module",
    "function",
    "builtin_function_or_method",
    "instance",
    "_Feature"
   ],
   "window_display": false
  }
 },
 "nbformat": 4,
 "nbformat_minor": 5
}
