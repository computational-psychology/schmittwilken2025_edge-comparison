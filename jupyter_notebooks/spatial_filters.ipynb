{
 "cells": [
  {
   "cell_type": "markdown",
   "id": "f4044985",
   "metadata": {},
   "source": [
    "# Spatial filters\n",
    "\n",
    "## Imports"
   ]
  },
  {
   "cell_type": "code",
   "execution_count": null,
   "id": "dda907f4",
   "metadata": {},
   "outputs": [],
   "source": [
    "import numpy as np\n",
    "import matplotlib.pyplot as plt\n",
    "import pandas as pd\n",
    "import sys\n",
    "from scipy.signal import fftconvolve\n",
    "from scipy.optimize import minimize\n",
    "\n",
    "sys.path.insert(1, '../mechanistic_models')\n",
    "from functions import create_loggabor, create_loggabor_fft, create_gauss_fft, kelly_csf\n",
    "from experimental_data.exp_params import stim_params as sparams"
   ]
  },
  {
   "cell_type": "markdown",
   "id": "0c2d3ca5",
   "metadata": {},
   "source": [
    "## Parameters"
   ]
  },
  {
   "cell_type": "code",
   "execution_count": null,
   "id": "08fcde57",
   "metadata": {},
   "outputs": [],
   "source": [
    "# Constant params\n",
    "sigma_angleo = 0.2965            # from Schütt & Wichmann (2017)\n",
    "ppd = sparams[\"ppd\"]             # pixel resolution\n",
    "tf = 2.5                         # temporal frequency\n",
    "\n",
    "# Create SF axes\n",
    "nX = int(sparams[\"stim_size\"]*ppd)\n",
    "fs = np.fft.fftshift(np.fft.fftfreq(nX, d=1./ppd))\n",
    "fx, fy = np.meshgrid(fs, fs)\n",
    "\n",
    "# Extents\n",
    "vex = [-sparams[\"stim_size\"]/2, sparams[\"stim_size\"]/2,]*2\n",
    "fex = [fs.min(), fs.max(),]*2"
   ]
  },
  {
   "cell_type": "markdown",
   "id": "a42a7502",
   "metadata": {},
   "source": [
    "# Single-scale filter"
   ]
  },
  {
   "cell_type": "markdown",
   "id": "a4fe2248",
   "metadata": {},
   "source": [
    "## CSF (Kelly)\n",
    "The basis for the single-scale filter was the spatiotemporal contrast sensitivity function as defined in Kelly (1979).\n",
    "Since we will need to fit the isotropic filters to this CSF, let's create it first."
   ]
  },
  {
   "cell_type": "code",
   "execution_count": null,
   "id": "eb14a11d",
   "metadata": {},
   "outputs": [],
   "source": [
    "# Optional: Plot one-dimensional csfs\n",
    "axSet = {\"yscale\": 'log', \"ylim\": (0.003, 1), \"yticks\": (0.01, 0.1, 1), \"yticklabels\": (0.01, 0.1, 1),\n",
    "         \"xlabel\": 'cpd', \"xscale\": 'log', \"xticks\": (0.1, 1, 10, 100), \"xticklabels\": (0.1, 1, 10, 100),\n",
    "         \"xlim\": (0.1)}\n",
    "\n",
    "# Plot csfs from Fig 14\n",
    "w_all = np.array([2., 2.5, 13.5, 17., 23.])  # temporal frequencies\n",
    "fig, ax = plt.subplots(1, 2, figsize=(8, 3))\n",
    "for i in range(len(w_all)):\n",
    "    csfKelly = kelly_csf(np.linspace(0.1, 100, 1000), tfs=[w_all[i],])\n",
    "    csfKelly[csfKelly!=0] = 1. / csfKelly[csfKelly!=0]\n",
    "    ax[0].plot(np.linspace(0.1, 100, 1000), csfKelly, '.-', label=str(w_all[i]) + ' Hz')\n",
    "\n",
    "# Plot csf with our temporal characteristics\n",
    "csf = kelly_csf(fs, tfs=[tf,])\n",
    "csfPlot = 1. / csf[csf!=0]\n",
    "ax[1].plot(fs[fs!=0], csfPlot, '.-', label=str(tf)+\" Hz\")\n",
    "ax[0].set(title='kelly79', **axSet), ax[0].legend(), ax[0].invert_yaxis()\n",
    "ax[1].set(title='ours', **axSet),    ax[1].legend(), ax[1].invert_yaxis()\n",
    "plt.show()"
   ]
  },
  {
   "cell_type": "code",
   "execution_count": null,
   "id": "e1194178",
   "metadata": {},
   "outputs": [],
   "source": [
    "# Two-dimensional csf for our experiment\n",
    "csf_2d = kelly_csf(np.sqrt((fy**2. + fx**2.)), tfs=[tf,])\n",
    "\n",
    "plt.figure(figsize=(12, 3))\n",
    "plt.subplot(121), plt.imshow(csf_2d, extent=fex), plt.colorbar()\n",
    "plt.subplot(122), plt.plot(fs, csf), plt.plot(fs, csf_2d[int(nX/2),:]), plt.xlim(0)\n",
    "plt.show()"
   ]
  },
  {
   "cell_type": "code",
   "execution_count": null,
   "id": "d7199604",
   "metadata": {},
   "outputs": [],
   "source": [
    "# Quick comparison with castleCSF\n",
    "import scipy.io as sio\n",
    "mat_contents = sio.loadmat(\"../heuristic_test/castleCSF_schmittwilken2024.mat\")\n",
    "matCSF = mat_contents[\"csf\"]\n",
    "matSF = mat_contents[\"fd\"]\n",
    "print(np.unique(matSF - np.sqrt(fx**2 + fy**2))) # are we using the same SFs?\n",
    "\n",
    "plt.figure(figsize=(12, 3))\n",
    "plt.subplot(121), plt.imshow(matCSF, extent=fex), plt.colorbar()\n",
    "plt.subplot(122), plt.plot(fs, csf / csf.max()), plt.plot(fs, matCSF[int(nX/2),:] / matCSF.max()), plt.xlim(0)\n",
    "plt.show()"
   ]
  },
  {
   "cell_type": "markdown",
   "id": "16c04281",
   "metadata": {},
   "source": [
    "## Oriented log-Gabor (OG)\n",
    "Plot original best-fitting log-Gabor filter"
   ]
  },
  {
   "cell_type": "code",
   "execution_count": null,
   "id": "750d2c3d",
   "metadata": {},
   "outputs": [],
   "source": [
    "# Perform fitting\n",
    "def run_loggabor(params):\n",
    "    fo = params[0]; sigma_fo = params[1]\n",
    "    loggabor_fft = create_loggabor_fft(fx, fy, fo, sigma_fo, 0, sigma_angleo)\n",
    "    \n",
    "    p1 = csf_2d[int(nX/2), int(nX/2)::] / csf_2d.max()\n",
    "    p2 = loggabor_fft[int(nX/2), int(nX/2)::]\n",
    "    return np.abs(p1 - p2).sum()\n",
    "\n",
    "params0 = [3., 0.55]\n",
    "bnds = ((0.5, 4.), (0.05, 0.95))\n",
    "\n",
    "res = minimize(run_loggabor, params0, method='SLSQP', bounds=bnds)\n",
    "print(res)\n",
    "\n",
    "# Create and plot the loggabor filter with the above specifications\n",
    "loggabor_fft = create_loggabor_fft(fx, fy, res[\"x\"][0], res[\"x\"][1], 0, sigma_angleo)"
   ]
  },
  {
   "cell_type": "code",
   "execution_count": null,
   "id": "603440c9",
   "metadata": {},
   "outputs": [],
   "source": [
    "# Parameters\n",
    "fo = 2.64553923            # fitted to CSF\n",
    "sigma_fo = 0.49796013      # fitted to CSF"
   ]
  },
  {
   "cell_type": "code",
   "execution_count": null,
   "id": "79dfc001",
   "metadata": {},
   "outputs": [],
   "source": [
    "# Create oriented log-Gabor\n",
    "loggabor_fft = create_loggabor_fft(fx, fy, fo, sigma_fo, 0, sigma_angleo)\n",
    "_, loggabor = create_loggabor(fx, fy, fo, sigma_fo, 0, sigma_angleo)\n",
    "\n",
    "plt.figure(figsize=(12, 3))\n",
    "plt.subplot(131), plt.imshow(loggabor_fft, extent=fex), plt.title(\"2d Fourier\")\n",
    "plt.subplot(132), plt.imshow(loggabor, extent=vex), plt.title(\"2d space\")\n",
    "plt.subplot(133)\n",
    "plt.plot(fs, csf/csf.max(), label='CSF')\n",
    "plt.plot(fs, loggabor_fft[int(nX/2),:], label='CSF-loggabor')\n",
    "plt.legend(), plt.xlabel(\"SF\"), plt.title(\"1d Fourier\"), plt.xlim(0)\n",
    "plt.show()"
   ]
  },
  {
   "cell_type": "markdown",
   "id": "820a9ead",
   "metadata": {},
   "source": [
    "## Isotropic log-Gabor"
   ]
  },
  {
   "cell_type": "code",
   "execution_count": null,
   "id": "cb2c50da",
   "metadata": {},
   "outputs": [],
   "source": [
    "# Create isotropic log-Gabor (set sigma_angleo to inf)\n",
    "isologgabor_fft = create_loggabor_fft(fx, fy, fo, sigma_fo, 0, np.inf)\n",
    "isologgabor, _ = create_loggabor(fx, fy, fo, sigma_fo, 0, np.inf)\n",
    "\n",
    "plt.figure(figsize=(12, 3))\n",
    "plt.subplot(141), plt.imshow(isologgabor_fft, extent=fex, cmap=\"coolwarm\"), plt.title(\"2d Fourier\")\n",
    "plt.subplot(142), plt.imshow(isologgabor, extent=vex, cmap=\"coolwarm\"), plt.title(\"2d space\")\n",
    "plt.subplot(143)\n",
    "plt.plot(fs, csf/csf.max(), label='CSF')\n",
    "plt.plot(fs, isologgabor_fft[int(nX/2),:], label='CSF-loggabor')\n",
    "plt.legend(), plt.xlabel(\"SF\"), plt.title(\"1d Fourier\"), plt.xlim(0)\n",
    "plt.subplot(144); plt.plot(isologgabor[int(nX/2),:]), plt.title(\"1d space\")\n",
    "plt.show()"
   ]
  },
  {
   "cell_type": "markdown",
   "id": "7cd76bb0",
   "metadata": {},
   "source": [
    "# Multi-scale filters"
   ]
  },
  {
   "cell_type": "markdown",
   "id": "8a0e6b5d",
   "metadata": {},
   "source": [
    "## Oriented log-Gabor (OG)"
   ]
  },
  {
   "cell_type": "code",
   "execution_count": null,
   "id": "18d2f052",
   "metadata": {},
   "outputs": [],
   "source": [
    "# Parameters\n",
    "fos = [0.5, 3., 9.]              # center SFs of log-Gabor filters\n",
    "sigma_fo = 0.5945                # from Schütt & Wichmann (2017)\n",
    "nFilters = len(fos)\n",
    "\n",
    "# Create oriented log-Gabor (set sigma_angleo to inf)\n",
    "loggabor_fft = create_loggabor_fft(fx, fy, fos[-1], sigma_fo, 0, sigma_angleo)\n",
    "loggabor, _ = create_loggabor(fx, fy, fos[-1], sigma_fo, 0, sigma_angleo)\n",
    "\n",
    "plt.figure(figsize=(12, 3))\n",
    "plt.subplot(141), plt.imshow(loggabor_fft, extent=fex), plt.title(\"2d Fourier\")\n",
    "plt.subplot(142), plt.imshow(loggabor, extent=vex), plt.title(\"2d space\")\n",
    "plt.subplot(143), plt.plot(fs, loggabor_fft[int(nX/2),:]), plt.title(\"1d Fourier\"), plt.xlim(0)\n",
    "plt.subplot(144); plt.plot(loggabor[int(nX/2),:]), plt.title(\"1d space\"), #plt.xlim(nX/2, nX/2+10)\n",
    "plt.show()"
   ]
  },
  {
   "cell_type": "code",
   "execution_count": null,
   "id": "8cd5d2a7",
   "metadata": {},
   "outputs": [],
   "source": [
    "plt.figure(figsize=(3,2))\n",
    "for fo in fos[::-1]:\n",
    "    loggabor_fft = create_loggabor_fft(fx, fy, fo, sigma_fo, 0, sigma_angleo)\n",
    "    plt.plot(fs, loggabor_fft[int(nX/2),:], label=str(fo)+\" cpd\"); plt.xlim(0);\n",
    "#plt.legend(); plt.savefig(\"loggabors.png\", dpi=300)"
   ]
  },
  {
   "cell_type": "markdown",
   "id": "97c7e313",
   "metadata": {},
   "source": [
    "## Isotropic log-Gabor"
   ]
  },
  {
   "cell_type": "code",
   "execution_count": null,
   "id": "842701b5",
   "metadata": {},
   "outputs": [],
   "source": [
    "# Create isotropic log-Gabor (set sigma_angleo to inf)\n",
    "isologgabor_fft = create_loggabor_fft(fx, fy, fos[0], sigma_fo, 0, np.inf)\n",
    "isologgabor, _ = create_loggabor(fx, fy, fos[0], sigma_fo, 0, np.inf)\n",
    "\n",
    "plt.figure(figsize=(12, 3))\n",
    "plt.subplot(141), plt.imshow(isologgabor_fft, extent=fex), plt.title(\"2d Fourier\")\n",
    "plt.subplot(142), plt.imshow(isologgabor, extent=vex), plt.title(\"2d space\")\n",
    "plt.subplot(143), plt.plot(fs, isologgabor_fft[int(nX/2),:]), plt.title(\"1d Fourier\"), plt.xlim(0)\n",
    "plt.subplot(144); plt.plot(isologgabor[int(nX/2),:]), plt.title(\"1d space\"), #plt.xlim(nX/2, nX/2+10)\n",
    "plt.show()"
   ]
  },
  {
   "cell_type": "code",
   "execution_count": null,
   "id": "ae6a8572",
   "metadata": {},
   "outputs": [],
   "source": []
  }
 ],
 "metadata": {
  "kernelspec": {
   "display_name": "Python 3 (ipykernel)",
   "language": "python",
   "name": "python3"
  },
  "language_info": {
   "codemirror_mode": {
    "name": "ipython",
    "version": 3
   },
   "file_extension": ".py",
   "mimetype": "text/x-python",
   "name": "python",
   "nbconvert_exporter": "python",
   "pygments_lexer": "ipython3",
   "version": "3.10.12"
  },
  "toc": {
   "base_numbering": 1,
   "nav_menu": {},
   "number_sections": true,
   "sideBar": true,
   "skip_h1_title": false,
   "title_cell": "Table of Contents",
   "title_sidebar": "Contents",
   "toc_cell": false,
   "toc_position": {},
   "toc_section_display": true,
   "toc_window_display": false
  },
  "varInspector": {
   "cols": {
    "lenName": 16,
    "lenType": 16,
    "lenVar": 40
   },
   "kernels_config": {
    "python": {
     "delete_cmd_postfix": "",
     "delete_cmd_prefix": "del ",
     "library": "var_list.py",
     "varRefreshCmd": "print(var_dic_list())"
    },
    "r": {
     "delete_cmd_postfix": ") ",
     "delete_cmd_prefix": "rm(",
     "library": "var_list.r",
     "varRefreshCmd": "cat(var_dic_list()) "
    }
   },
   "types_to_exclude": [
    "module",
    "function",
    "builtin_function_or_method",
    "instance",
    "_Feature"
   ],
   "window_display": false
  }
 },
 "nbformat": 4,
 "nbformat_minor": 5
}
