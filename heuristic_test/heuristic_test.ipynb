{
 "cells": [
  {
   "cell_type": "markdown",
   "id": "61361988",
   "metadata": {},
   "source": [
    "# How does drift affect stimulus power on the retina?\n",
    "\n",
    "# Imports"
   ]
  },
  {
   "cell_type": "code",
   "execution_count": null,
   "id": "d43168fe",
   "metadata": {},
   "outputs": [],
   "source": [
    "import numpy as np\n",
    "import matplotlib.pyplot as plt\n",
    "import sys\n",
    "import os\n",
    "from matplotlib import animation\n",
    "from ipywidgets import interact\n",
    "import copy\n",
    "import scipy.io as sio\n",
    "import pickle\n",
    "\n",
    "sys.path.insert(1, '../mechanistic_models')\n",
    "from functions import create_edge, create_noise, create_drift\n",
    "\n",
    "sys.path.insert(1, '../experimental_data')\n",
    "from exp_params import stim_params as sparams\n",
    "from exp_params import exp_params as eparams"
   ]
  },
  {
   "cell_type": "markdown",
   "id": "42f19817",
   "metadata": {},
   "source": [
    "# Preparations"
   ]
  },
  {
   "cell_type": "code",
   "execution_count": null,
   "id": "0a145449",
   "metadata": {},
   "outputs": [],
   "source": [
    "# Parameters\n",
    "stimSize = sparams[\"stim_size\"]          # visual extent in deg\n",
    "ppd = sparams[\"ppd\"]                     # spatial resolution (pixels per deg)\n",
    "meanLum = sparams[\"mean_lum\"]            # mean luminance in cd/m**2\n",
    "edgeWidths = sparams[\"edge_widths\"]      # of Cornsweet edges in deg\n",
    "edgeExponent = sparams[\"edge_exponent\"]  # of Cornsweet edges\n",
    "noiseTypes = sparams[\"noise_types\"]\n",
    "rmsNoise = sparams[\"noise_contrast\"]     # rms contrast of noise masks\n",
    "rmsEdge = 0.05                           # edge contrast for visuals"
   ]
  },
  {
   "cell_type": "code",
   "execution_count": null,
   "id": "903c03b3",
   "metadata": {},
   "outputs": [],
   "source": [
    "# Calculate spatial axis in pixels:\n",
    "vextent = [-stimSize/2., stimSize/2., stimSize/2., -stimSize/2.]\n",
    "x = np.arange(vextent[0]*ppd, vextent[1]*ppd, 1.)\n",
    "nX = len(x)\n",
    "\n",
    "# Calculate spatial frequency axis in cpd:\n",
    "fs = np.fft.fftshift(np.fft.fftfreq(int(nX), d=1./ppd))\n",
    "fx, fy = np.meshgrid(fs, fs)\n",
    "fs1d = fs[int(nX/2)::]\n",
    "fextent = (fs[0], fs[-1], fs[0], fs[-1])\n",
    "\n",
    "# Min and max intensities for plotting:\n",
    "vmin, vmax = 0, meanLum*2."
   ]
  },
  {
   "cell_type": "markdown",
   "id": "9af01405",
   "metadata": {},
   "source": [
    "# Helper functions"
   ]
  },
  {
   "cell_type": "code",
   "execution_count": null,
   "id": "037c2b76",
   "metadata": {},
   "outputs": [],
   "source": [
    "def compute_power(stimulus):\n",
    "    return np.abs(np.fft.fftshift(np.fft.fftn(stimulus - stimulus.mean()))) ** 2. / np.size(stimulus)\n",
    "\n",
    "def csf_kelly(sfs, tf):\n",
    "    sfs = np.abs(sfs)                   # for negative SFs\n",
    "    idx=np.where(sfs==0.); sfs[idx]=1.  # fudge for sf=0\n",
    "    v = tf / sfs                        # calculate \"velocity\" from TFs\n",
    "\n",
    "    k = 6.1 + 7.3 * np.abs(np.log10(v/3.))**3.\n",
    "    amax = 45.9 / (v + 2.)\n",
    "    csf = k * v * (2.*np.pi*sfs)**2. * np.exp((-4.*np.pi*sfs) / amax)  # kelly1979\n",
    "    if len(idx): csf[idx]=0                                            # undo fudge\n",
    "    return csf\n",
    "\n",
    "def normRange(inpt, vmin, vmax):\n",
    "    inpt = (inpt - inpt.min()) / (inpt.max() - inpt.min())\n",
    "    return inpt * (vmax-vmin) + vmin\n",
    "\n",
    "def create_grating(sf, alpha=0., phi=0, C=1., ppd=100., sSize=1.):\n",
    "    x = np.arange(-sSize/2, sSize/2, 1./ppd)\n",
    "    xx, yy = np.meshgrid(x, x)\n",
    "    alpha = [np.cos(alpha), np.sin(alpha)]\n",
    "    return C * np.sin((alpha[0]*xx + alpha[1]*yy) * 2. * np.pi * sf + phi)"
   ]
  },
  {
   "cell_type": "markdown",
   "id": "b4fe6535",
   "metadata": {},
   "source": [
    "# Create stimuli\n",
    "\n",
    "## Noise masks"
   ]
  },
  {
   "cell_type": "code",
   "execution_count": null,
   "id": "4fc71d7f",
   "metadata": {},
   "outputs": [],
   "source": [
    "noises = []; nNoises = len(noiseTypes); noiseNames = [\"none\", \"white\", \"pink\", \"brown\", \"NB0.5\", \"NB3\", \"NB9\"]\n",
    "for n in noiseTypes: noises.append(create_noise(n, sparams) + meanLum)\n",
    "\n",
    "plt.figure(figsize=(16, 2))\n",
    "for ni, n in enumerate(noises):\n",
    "    plt.subplot(1,7,ni+1); plt.imshow(n,cmap=\"gray\",vmin=vmin,vmax=vmax); plt.title(noiseNames[ni]); plt.axis(\"off\")"
   ]
  },
  {
   "cell_type": "markdown",
   "id": "dad5d455",
   "metadata": {},
   "source": [
    "## Cornsweet edges"
   ]
  },
  {
   "cell_type": "code",
   "execution_count": null,
   "id": "eefd3c3a",
   "metadata": {},
   "outputs": [],
   "source": [
    "edges = []; nEdges = len(edgeWidths); edgeNames = [\"9 edge\", \"3 edge\", \"0.5 edge\"]\n",
    "for e in edgeWidths: edges.append(create_edge(rmsEdge, e, sparams))\n",
    "\n",
    "plt.figure(figsize=(8, 2))\n",
    "for ei, e in enumerate(edges):\n",
    "    plt.subplot(1,3,ei+1); plt.imshow(e,cmap=\"gray\",vmin=vmin,vmax=vmax); plt.title(edgeNames[ei]); plt.axis(\"off\")"
   ]
  },
  {
   "cell_type": "code",
   "execution_count": null,
   "id": "c3181938",
   "metadata": {},
   "outputs": [],
   "source": [
    "# Plot all noise-masked stimuli\n",
    "fig, axes = plt.subplots(nNoises, nEdges, figsize=(14, 32), sharex=True, sharey=True)\n",
    "fig.subplots_adjust(hspace=0.001, wspace=0.001)\n",
    "\n",
    "for ni, n in enumerate(noises):\n",
    "    for ei, e in enumerate(edges):\n",
    "        lumProf = (e[:, int(nX/2)] - meanLum) / 30\n",
    "        axes[ni,ei].imshow(e+n-meanLum, cmap='gray', extent=vextent, vmin=vmin, vmax=vmax)\n",
    "        axes[ni,ei].set_axis_off(); #axes[i, j].plot(profile, color=\"white\", linewidth=1);\n",
    "#plt.savefig('stimuli.png', dpi=300)\n",
    "plt.show()"
   ]
  },
  {
   "cell_type": "markdown",
   "id": "e0d81462",
   "metadata": {},
   "source": [
    "# Static power spectra\n",
    "\n",
    "## 2d spectra"
   ]
  },
  {
   "cell_type": "code",
   "execution_count": null,
   "id": "c0091237",
   "metadata": {},
   "outputs": [],
   "source": [
    "# Calculate power spectra of noise masks\n",
    "noisePows = []\n",
    "for n in noises: noisePows.append(compute_power(n))\n",
    "\n",
    "plt.figure(figsize=(16, 2))\n",
    "for ni, n in enumerate(noisePows):\n",
    "    plt.subplot(1,7,ni+1); plt.imshow(n); plt.title(noiseNames[ni]); plt.axis(\"off\")"
   ]
  },
  {
   "cell_type": "code",
   "execution_count": null,
   "id": "4b760ea3",
   "metadata": {
    "hide_input": false
   },
   "outputs": [],
   "source": [
    "# Calculate power spectra of edges\n",
    "edgePows = []\n",
    "for e in edges: edgePows.append(compute_power(e))\n",
    "\n",
    "plt.figure(figsize=(8, 2))\n",
    "for ei, e in enumerate(edgePows):\n",
    "    plt.subplot(1, 3, ei+1), plt.imshow(e), plt.title(edgeNames[ei]); plt.axis(\"off\")"
   ]
  },
  {
   "cell_type": "markdown",
   "id": "f25ae320",
   "metadata": {},
   "source": [
    "## 1d spectra (visual-only)\n",
    "\n",
    "We do this just for visualization purposes because it is more correct to do all computations with the 2d spectra.\n",
    "\n",
    "Reason: If we just take the 1d spectra (either radially averaged or cut-through), the resulting spectra are not equal in power anymore, as the arrays have a square shape and not circular one."
   ]
  },
  {
   "cell_type": "code",
   "execution_count": null,
   "id": "d0db2f81",
   "metadata": {},
   "outputs": [],
   "source": [
    "# Get horizontal cuts\n",
    "edgePows1d = []; noisePows1d = []\n",
    "for e in edgePows: edgePows1d.append(e[int(nX/2), int(nX/2)::])\n",
    "for n in noisePows: noisePows1d.append(n[int(nX/2), int(nX/2)::])\n",
    "    \n",
    "noisePows1d=noisePows1d[1::]; noiseNames_=noiseNames[1::] # skip no-noise"
   ]
  },
  {
   "cell_type": "code",
   "execution_count": null,
   "id": "4c3002ea",
   "metadata": {},
   "outputs": [],
   "source": [
    "eCol = [\"C2\", \"C1\", \"C0\"]\n",
    "noiseCols = [\"C3\", \"C4\", \"C5\", \"C2\", \"C1\", \"C0\"]\n",
    "axParams = {\n",
    "    \"xlabel\": \"SF (cpd)\", \"xscale\": \"log\", \"xticks\": (1, 10), \"xticklabels\": (1, 10), \"xlim\": (0.25,20),\n",
    "    \"yscale\": \"log\", \"ylim\":(1, 1e8), \"yticks\": [],\n",
    "}\n",
    "\n",
    "fig, axes = plt.subplots(1, 2, figsize=(6.2, 3), sharex=True, sharey=True)\n",
    "for ei, e in enumerate(edgePows1d):\n",
    "    axes[0].plot(fs1d, e, '.-', label=edgeNames[ei]); axes[0].set(**axParams, ylabel=\"Power (dB)\")\n",
    "for ni, n in enumerate(noisePows1d):\n",
    "    axes[1].plot(fs1d, n, '.-', label=noiseNames_[ni], color=noiseCols[ni]); axes[1].set(**axParams)\n",
    "axes[0].legend(); axes[1].legend(ncol=2); plt.tight_layout()\n",
    "#plt.savefig('1d_powers.png', dpi=300)"
   ]
  },
  {
   "cell_type": "markdown",
   "id": "a42fe28a",
   "metadata": {},
   "source": [
    "# Empirical results"
   ]
  },
  {
   "cell_type": "code",
   "execution_count": null,
   "id": "10b371e5",
   "metadata": {},
   "outputs": [],
   "source": [
    "# Load empirical data\n",
    "with open('../experimental_data/empThresholds.pickle', 'rb') as handle:\n",
    "    empData = pickle.load(handle)\n",
    "empThresh = np.transpose(empData[\"thresholds\"][1::, ::-1])\n",
    "empCIs = empData[\"credible68\"][1::, ::-1, :]\n",
    "\n",
    "# Plot thresholds\n",
    "fig, axes = plt.subplots(1, 3, figsize=(6, 1), sharex=True, sharey=True); fig.subplots_adjust(wspace=0)\n",
    "for ei in range(nEdges):\n",
    "    axes[ei].plot(noiseNames[1::], empThresh[-ei-1, :], '.-', color=eCol[ei])\n",
    "    axes[ei].fill_between(np.arange(6), empCIs[:, -ei-1, 0], empCIs[:, -ei-1, 1], color=eCol[ei], alpha=0.2)\n",
    "    axes[0].set(ylabel=\"Thresholds\", xticklabels=[]); axes[ei].grid(True, color=[0.9,]*3)\n",
    "#plt.savefig('thresholds.png', dpi=300)"
   ]
  },
  {
   "cell_type": "markdown",
   "id": "c483e542",
   "metadata": {},
   "source": [
    "# Simulate drift-gain\n",
    "\n",
    "Drift redistributes power in a fashion that whitens natural scene statistics. Let's look at this in more detail.\n",
    "\n",
    "## Gratings\n",
    "As the basis for our simulations, we use sinusoidal gratings to show the effect of drift on individual SFs."
   ]
  },
  {
   "cell_type": "code",
   "execution_count": null,
   "id": "3e185445",
   "metadata": {},
   "outputs": [],
   "source": [
    "def plot_grating(g, gPow, ppd):\n",
    "    x = np.arange(0, g.shape[0]/ppd, 1/ppd); extent = [0, g.shape[0]/ppd]\n",
    "    sff = np.fft.fftshift(np.fft.fftfreq(len(x), d=1./ppd)); sff_ext = (sff[0], sff[-1], sff[0], sff[-1])\n",
    "\n",
    "    plt.figure(figsize=(16, 4))\n",
    "    plt.subplot(131); plt.imshow(g, cmap='gray', extent=extent+extent)\n",
    "    plt.colorbar(); plt.title('2d grating'); plt.xlabel('deg'); plt.ylabel('deg')\n",
    "\n",
    "    plt.subplot(132); plt.imshow(np.log10(gPow + 0.001), extent=sff_ext, vmax=-2)\n",
    "    plt.colorbar(); plt.title('Power spectrum (log)'); plt.xlabel('cpd'); plt.ylabel('cpd')\n",
    "\n",
    "    plt.subplot(133); plt.plot(sff, np.log10(gPow[int(len(x)/2), :]+0.001))\n",
    "    plt.xlabel('cpd'); plt.ylabel('Power');\n",
    "\n",
    "def explore_grating(sf):\n",
    "    g = create_grating(sf, ppd=ppd, sSize=stimSize)\n",
    "    plot_grating(g, compute_power(g), ppd)\n",
    "\n",
    "interact(explore_grating, sf=(1,10,1))"
   ]
  },
  {
   "cell_type": "markdown",
   "id": "85d0242b",
   "metadata": {},
   "source": [
    "## Drift creates a transient luminance signal\n",
    "\n",
    "Let's simulate the luminance input of a single neuron which moves over time following ocular drift behavior, and also calculate the (temporal) power of this signal.\n",
    "We simulate drift as a Brownian motion process.\n",
    "\n",
    "Crucially, we can observe that the extent of these luminance modulations depends on the SF of the grating.\n",
    "Temporal luminance modulations for low SF gratings are smaller than for high SF gratings."
   ]
  },
  {
   "cell_type": "code",
   "execution_count": null,
   "id": "692550b0",
   "metadata": {},
   "outputs": [],
   "source": [
    "def plot_drift(grating_2d, ppd, fps, T, path, lumTime, lumPower):\n",
    "    nT = int(T*fps)+1; t = np.linspace(0, T, nT)\n",
    "    tff = np.fft.fftshift(np.fft.fftfreq(nT, d=1./fps)); extent = [0, grating_2d.shape[0]/ppd]\n",
    "\n",
    "    plt.figure(figsize=(15, 4))\n",
    "    plt.subplot(131); plt.imshow(grating_2d, cmap='gray', extent=extent+extent)\n",
    "    plt.plot(path[0, :] / ppd, path[1, :] / ppd, 'r')\n",
    "    plt.title('Grating + drift'); plt.xlabel('deg'); plt.ylabel('deg')\n",
    "\n",
    "    plt.subplot(132); plt.plot(t, lumTime, 'c.'); plt.plot(t, lumTime, alpha=0.2)\n",
    "    plt.ylim(-grating_2d.max()*1.2, grating_2d.max()*1.2)\n",
    "    plt.title('Luminance over time'); plt.xlabel('Time in s'); plt.ylabel('Luminance')\n",
    "\n",
    "    plt.subplot(133); plt.plot(tff, np.log10(lumPower), 'c.'); plt.plot(tff, np.log10(lumPower), alpha=0.2)\n",
    "    plt.ylim(-3., 6.); plt.xlim(0.1, 50.); plt.xscale('log'); plt.xticks([0.1, 1, 10, 50], [0.1, 1, 10, 50])\n",
    "    plt.title('Temporal power'); plt.xlabel('tf in Hz'); plt.ylabel('Power in dB'); \n",
    "\n",
    "def explore_drift(sf):\n",
    "    T = 2.; fps=100; D = 20/(60.**2.)                     # time; frames/second; diffusion constant\n",
    "    gPow = np.zeros(int(T*fps+1))\n",
    "    for i in range(100):                                  # average over 100 repetitions\n",
    "        g = create_grating(sf, sSize=stimSize, ppd=ppd)   # create grating\n",
    "        _, path = create_drift(T, fps, ppd, D)            # create drift path (in px)\n",
    "        path += int(stimSize/2 * ppd)                     # shift to grating center\n",
    "\n",
    "        lumTime = g[path[0,:], path[1,:]]                 # luminance over time for 1px\n",
    "        gPow += compute_power(lumTime)**2.                # calculate temporal power\n",
    "    plot_drift(g, ppd, fps, T, path, lumTime, gPow/100)   # plot\n",
    "\n",
    "interact(explore_drift, sf=(1,7,3))"
   ]
  },
  {
   "cell_type": "markdown",
   "id": "3728b918",
   "metadata": {},
   "source": [
    "## Drift whitens the visual input\n",
    "\n",
    "After these observations, let's simulate how these temporal modulations due to drift interact with the spatial characteristics of the visual input.\n",
    "\n",
    "For this, we simulate the previous effect of drift for a larger number of SFs (gratings with different SFs), and compute the spatiotemporal power.\n",
    "Finally, we plot the resulting power averaged across all non-zero TFs.\n",
    "We can see that drift shifts power towards higher SFs.\n",
    "\n",
    "Incidentally, this shift is the inverse of the typical $\\frac{1}{f}$ spectrum we observe for natural scenes at SFs up to approximately 5 cpd."
   ]
  },
  {
   "cell_type": "code",
   "execution_count": null,
   "id": "d85684c3",
   "metadata": {},
   "outputs": [],
   "source": [
    "# Parameters\n",
    "ppd_ = 100          # spatial resolution; needs to be large to avoid Nyquist\n",
    "T = 3.              # time in s; needs to be large for low TFs\n",
    "fps = 100.          # temporal resolution; frames/second = Hz\n",
    "D = 20.             # diffusion coefficient in arcmin**2/s\n",
    "nT = int(T*fps)+1\n",
    "sfs = fs1d[1::]     # select SFs\n",
    "\n",
    "# Compute drift gain\n",
    "gPow = np.zeros([nT, len(sfs)])\n",
    "for r in range(50):                                                 # average over 50 repetitions\n",
    "    for fi, f in enumerate(sfs):\n",
    "        phiRd = np.random.random(1) * 2 * np.pi                     # randomize phase\n",
    "        g = create_grating(f, phi=phiRd, ppd=ppd_, sSize=stimSize)  # create grating\n",
    "        \n",
    "        _, path = create_drift(T, fps, ppd_, D/(60.**2.))           # create drift path\n",
    "        path += int(stimSize/2 * ppd)                               # shift to grating center\n",
    "        lum = g[path[0,:], path[1,:]]                               # luminance over time for 1px\n",
    "        \n",
    "        gPow[:,fi] += compute_power(lum) / 50                       # compute spatiotemporal power\n",
    "gPow = gPow[int(nT/2)+1::,:]                                        # remove negative, and non-zero TFs\n",
    "gPow1d = 10. ** np.log10(gPow).mean(0)                              # average over TFs"
   ]
  },
  {
   "cell_type": "code",
   "execution_count": null,
   "id": "20458184",
   "metadata": {},
   "outputs": [],
   "source": [
    "ft = np.fft.fftshift(np.fft.fftfreq(nT, d=1./fps))[int(nT/2)+1::]   # TF axis for plotting\n",
    "gPowDB = 10. * np.log10(gPow / gPow.max())                          # compute in db\n",
    "\n",
    "plt.figure(figsize=(7, 2))\n",
    "plt.subplot(121, aspect=0.8); plt.pcolormesh(sfs, ft, gPowDB, cmap='hot', vmin=-60, vmax=0., shading='auto')\n",
    "plt.yscale('log'); plt.ylim(0.25); plt.yticks([1, 10], [1, 10]); plt.ylabel(\"TF (Hz)\")\n",
    "plt.xscale('log'); plt.xlim(0.25); plt.xticks([1, 10], [1, 10]); plt.xlabel(\"SF (cpd)\")\n",
    "plt.title(\"Spatiotemporal power\");\n",
    "\n",
    "plt.subplot(122); plt.plot(sfs, gPowDB.mean(0), '.-')\n",
    "plt.xscale(\"log\"); plt.xticks([1, 10], [1, 10]); plt.xlabel(\"SF (cpd)\"); plt.ylabel(\"Power (db)\");\n",
    "plt.title(\"Drift gain\");"
   ]
  },
  {
   "cell_type": "markdown",
   "id": "26b7f9c8",
   "metadata": {},
   "source": [
    "## Simulate drift gain\n",
    "\n",
    "To simulate the effect of drift for our purposes, we want to fit a function that mimics this drift gain across all SFs.\n",
    "\n",
    "As mentioned before, we can emulate drift gain as $f^2$ for SFs up to about 5cpd.\n",
    "However, for larger SFs, the curves flattens out.\n",
    "To capture this behavior, we fit a sigmoid function to this part of the curve.\n",
    "\n",
    "Sigmoid function:\n",
    "$ sig(f) = A + \\frac{K - A}{1 + Q exp(-bf)}$"
   ]
  },
  {
   "cell_type": "code",
   "execution_count": null,
   "id": "9e2c2f38",
   "metadata": {},
   "outputs": [],
   "source": [
    "from scipy.optimize import minimize\n",
    "\n",
    "gPow1d = normRange(gPow1d, 0, 1)\n",
    "\n",
    "def sigmoid(x, p=[1,]*4):\n",
    "    A = p[0]; Q = p[1]; b = p[2]; K = p[3]\n",
    "    return A + (K - A) / (1 + Q * np.exp(-b * x))\n",
    "\n",
    "def optimizeSig(p):\n",
    "    return np.abs(gPow1d - sigmoid(fs1d[1::], p)).sum()\n",
    "\n",
    "# Optimize sigmoid to drift gain\n",
    "res = minimize(optimizeSig, [1,]*4)\n",
    "sig = sigmoid(fs1d, res.x)\n",
    "\n",
    "# Replace lower part (below 5cpd) by 1/f\n",
    "fswitch = 5.\n",
    "idx = np.argmin(np.abs(fs1d-fswitch))\n",
    "f2 = normRange(fs1d[0:idx]**2, 0, sig[idx-1])\n",
    "driftGain1d = np.concatenate( (f2, sig[idx::]) )\n",
    "\n",
    "print(\"Best fit of sig (loss):\\t\", res.fun)\n",
    "print(\"Best params: \\t\\t\", res.x)\n",
    "print(\"Best fit total (loss): \\t\", np.abs(gPow1d - driftGain1d[1::]).sum())\n",
    "print(\"Divide f2-part by:\\t\", fs1d[idx]**2 / sig[idx])\n",
    "\n",
    "# Plot\n",
    "plt.figure(figsize=(3,3))\n",
    "plt.plot(sfs, gPow1d, '.', label=\"simulated data\")\n",
    "plt.plot(fs1d, driftGain1d, '-', linewidth=2.5, label=\"fitted function\")\n",
    "plt.legend(); plt.ylim(0); plt.show()"
   ]
  },
  {
   "cell_type": "markdown",
   "id": "2b4d8264",
   "metadata": {},
   "source": [
    "## Drift gain in 2d\n",
    "\n",
    "Because of the aforementioned issues, we will perform our simulations in 2d rather than 1d.\n",
    "Hence, we need the previous 1d-drift-gain-vector in 2d."
   ]
  },
  {
   "cell_type": "code",
   "execution_count": null,
   "id": "d1ecf15d",
   "metadata": {},
   "outputs": [],
   "source": [
    "# Reproduce in 2d\n",
    "f2 = np.sqrt(fx**2. + fy**2.)                   # create 2d array with SFs\n",
    "sig = sigmoid(f2, res.x)                        # create 2d-sigmoid\n",
    "f2[f2 > fswitch] = fswitch                      # cap SFs at 5cpd\n",
    "mask = np.where(f2==fswitch, 1, 0)              # we will use this mask to join the sigmoid and f**2 parts\n",
    "f2 = normRange(f2**2., 0, sig[mask==1].min())   # create f**2 part and normalize between [0,1]\n",
    "driftGain = np.where(mask, sig, f2)             # join sigmoid and f**2 parts\n",
    "\n",
    "plt.figure(figsize=(8,3))\n",
    "plt.subplot(121); plt.imshow(driftGain); plt.colorbar()\n",
    "plt.subplot(122); plt.plot(fs1d, driftGain[int(nX/2), int(nX/2)::], label=\"2d cut\")\n",
    "plt.plot(fs1d, driftGain1d, '--', label=\"1d\"); plt.legend();"
   ]
  },
  {
   "cell_type": "markdown",
   "id": "7795a08d",
   "metadata": {},
   "source": [
    "## Visual for manuscript\n",
    "\n",
    "In the following, we will repeat the previous steps to create a nice visualization for the manuscript.\n",
    "For this, we increase / decrease resolution where necessary to generate smooth spectra despite plotting in log-scale.\n",
    "Besides for visualization, we will not use any of variables that we create along the way."
   ]
  },
  {
   "cell_type": "code",
   "execution_count": null,
   "id": "28c1606d",
   "metadata": {},
   "outputs": [],
   "source": [
    "createVisual = False\n",
    "if createVisual:\n",
    "    plt.figure(figsize=(8,6))\n",
    "    \n",
    "    # Part I: Gratings + drift\n",
    "    sfs_ = [.5, 3, 9]; fps_ = 1000; ppd_ = 200; sSize_ = 1.\n",
    "    _, path = create_drift(T=0.2, pps=1000, ppd=ppd_, D=D/(60.**2.))\n",
    "    path += int(sSize_/2 * ppd_)\n",
    "    gAll = np.zeros([int(sSize_*ppd_), 3*int(sSize_*ppd_)])\n",
    "    \n",
    "    for fi, f in enumerate(sfs_):\n",
    "        g = create_grating(f, sSize=sSize_, ppd=ppd_); gAll[:, int(sSize_*ppd_*fi):int(sSize_*ppd_*(fi+1))] = g\n",
    "        lt = g[path[0,:], path[1,:]]\n",
    "        plt.subplot(3,2,1); plt.plot(path[0, :]/ppd_+fi*sSize_, path[1, :]/ppd_, linewidth=.5, color=eCol[fi])\n",
    "        plt.subplot(3,2,3); plt.plot(lt - lt[0], color=eCol[fi]);\n",
    "        plt.xticks([]); plt.yticks([]); plt.xlabel(\"Time (s)\"); plt.ylabel(\"Luminance\")\n",
    "    plt.subplot(3,2,1); plt.axis(\"off\"); plt.imshow(gAll, cmap=\"gray\", extent=[0, sSize_*3, 0, sSize_])\n",
    "\n",
    "    # Part II: Spatiotemporal power\n",
    "    sfs_=np.logspace(-2.5,0,30)*30; ppd_=64; sSize_=5.; T_=5; nR=500\n",
    "    gPow_ = np.zeros([int(T_*fps+1), len(sfs_)])\n",
    "    for r in range(nR):\n",
    "        for fi, f in enumerate(sfs_):\n",
    "            g = create_grating(f, phi=np.random.random(1)*2*np.pi, ppd=ppd_, sSize=sSize_)\n",
    "            _, path = create_drift(T_, fps, ppd_, D/(60.**2.))\n",
    "            path += int(sSize_/2 * ppd)\n",
    "            lt = g[path[0,:], path[1,:]]\n",
    "            gPow_[:,fi] += compute_power(lt) / nR\n",
    "    gPow_ = gPow_[int(T_*fps/2)+1::,:]\n",
    "    gPow1d_ = 10. ** np.log10(gPow_).mean(0)\n",
    "    gPowDB_ = 10. * np.log10(gPow_ / gPow_.max())\n",
    "    \n",
    "    idx_ = np.argmin(np.abs(sfs_ - 5))\n",
    "    sig_ = sigmoid(sfs_, res.x)\n",
    "    f2_ = normRange(sfs_[0:idx_]**2, 0, sig_[idx_-1])\n",
    "    gainPlot = normRange(np.concatenate((f2_, sig_[idx_::])), gPow_.min(), gPow_.max())\n",
    "    gainPlot = normRange(10.*np.log10(gainPlot), -80, -19) # not ideal but good enough to have same range in plot\n",
    "    \n",
    "    ft = np.fft.fftshift(np.fft.fftfreq(int(T_*fps+1), d=1./fps))[int(T_*fps/2)+1::]\n",
    "    plt.subplot(3,2,(2,4)); plt.pcolormesh(sfs_, ft, gPowDB_, cmap='hot', vmin=-55, vmax=0., shading='auto')\n",
    "    plt.yscale('log'); plt.ylim(0.5,50); plt.yticks([1, 10], [1, 10]); #plt.ylabel(\"TF (Hz)\")\n",
    "    plt.xscale('log'); plt.xlim(0.5,30); plt.xticks([1, 10], [1, 10]); #plt.xlabel(\"SF (cpd)\")\n",
    "    \n",
    "    plt.subplot(3,2,5); plt.xlabel(\"TF (Hz)\"); plt.xlim(0.5,50); plt.xscale(\"log\")\n",
    "    plt.plot(ft, gPowDB_[:, np.argmin(np.abs(sfs_-9))], '-')\n",
    "    plt.plot(ft, gPowDB_[:, np.argmin(np.abs(sfs_-3))], '-')\n",
    "    plt.plot(ft, gPowDB_[:, np.argmin(np.abs(sfs_-.5))], '-'); plt.xticks([1, 10], [1, 10]);\n",
    "\n",
    "    plt.subplot(3,2,6); plt.plot(sfs_, gPowDB_.mean(0), 'k.');\n",
    "    plt.plot(sfs_, gainPlot, 'k-'); plt.xlim(0.5,30); plt.ylim(-50);\n",
    "    plt.xscale(\"log\"); plt.xticks([1, 10], [1, 10]); plt.xlabel(\"SF (cpd)\");\n",
    "    plt.savefig('driftgain.png', dpi=300)"
   ]
  },
  {
   "cell_type": "markdown",
   "id": "bf63ed58",
   "metadata": {},
   "source": [
    "# Comparison of static + dynamic power\n",
    "\n",
    "In the following, we want to investigate whether we can account better for our empirical edge sensitivity data, if we take into account how drift redistributes stimulus power during fixations as we have seen in the previous steps."
   ]
  },
  {
   "cell_type": "markdown",
   "id": "c5dbcbd5",
   "metadata": {},
   "source": [
    "## Generate dynamic stimulus spectra\n",
    "\n",
    "In the next step, we apply the drift gain to the (static) power spectra for all our edges and noises individually."
   ]
  },
  {
   "cell_type": "code",
   "execution_count": null,
   "id": "198f7f79",
   "metadata": {},
   "outputs": [],
   "source": [
    "# Calculate power dynamic spectra of noise masks\n",
    "noisePowsDyn = []\n",
    "for n in noisePows: noisePowsDyn.append(n*driftGain)\n",
    "\n",
    "plt.figure(figsize=(16, 2))\n",
    "for ni, n in enumerate(noisePowsDyn):\n",
    "    plt.subplot(1,7,ni+1); plt.imshow(n); plt.title(noiseNames[ni]); plt.axis(\"off\")"
   ]
  },
  {
   "cell_type": "code",
   "execution_count": null,
   "id": "3489ef4e",
   "metadata": {},
   "outputs": [],
   "source": [
    "# Calculate dynamic power spectra of edges\n",
    "edgePowsDyn = []\n",
    "for e in edgePows: edgePowsDyn.append(e*driftGain)\n",
    "\n",
    "plt.figure(figsize=(8, 2))\n",
    "for ei, e in enumerate(edgePowsDyn):\n",
    "    plt.subplot(1, 3, ei+1), plt.imshow(e), plt.title(edgeNames[ei]); plt.axis(\"off\")"
   ]
  },
  {
   "cell_type": "code",
   "execution_count": null,
   "id": "55220f82",
   "metadata": {},
   "outputs": [],
   "source": [
    "# Get horizontal cuts\n",
    "edgePowsDyn1d = []; noisePowsDyn1d = []\n",
    "for e in edgePowsDyn: edgePowsDyn1d.append(e[int(nX/2), int(nX/2)::])\n",
    "for n in noisePowsDyn[1::]: noisePowsDyn1d.append(n[int(nX/2), int(nX/2)::]) # skip no-noise\n",
    "\n",
    "# Plot with same mean (because arbitrary)\n",
    "edgePowsDyn1dm = []; noisePowsDyn1dm = []\n",
    "for ei,e in enumerate(edgePowsDyn1d): edgePowsDyn1dm.append(e/e.mean() * edgePows1d[ei].mean())\n",
    "for ni,n in enumerate(noisePowsDyn1d): noisePowsDyn1dm.append(n/n.mean() * noisePows1d[ni].mean())"
   ]
  },
  {
   "cell_type": "code",
   "execution_count": null,
   "id": "a91418b8",
   "metadata": {},
   "outputs": [],
   "source": [
    "# Plot edge power\n",
    "fig, axes = plt.subplots(1, 3, figsize=(3.3, 1), sharex=True, sharey=True)\n",
    "for ei, e in enumerate(edgePowsDyn1dm[::-1]):\n",
    "    axes[ei].plot(fs1d, edgePows1d[-ei-1], ':', color=eCol[ei], label=edgeNames[-ei-1]);\n",
    "    axes[ei].plot(fs1d, e, '--', color=eCol[ei])\n",
    "axes[0].set(**axParams, ylabel=\"Power (dB)\");\n",
    "#plt.savefig('edgespectra.png', dpi=300)\n",
    "\n",
    "# Plot noise power\n",
    "fig, axes = plt.subplots(1, 6, figsize=(6.8, 1), sharex=True, sharey=True)\n",
    "for ni, n in enumerate(noisePowsDyn1dm):\n",
    "    axes[ni].plot(fs1d, noisePows1d[ni], ':', color=noiseCols[ni], label=noiseNames_[ni]);\n",
    "    axes[ni].plot(fs1d, n, '--', color=noiseCols[ni])\n",
    "axes[0].set(**axParams, ylabel=\"Power (dB)\");\n",
    "#plt.savefig('noisespectra.png', dpi=300)"
   ]
  },
  {
   "cell_type": "markdown",
   "id": "141043aa",
   "metadata": {},
   "source": [
    "## Weight responses with CSF\n",
    "\n",
    "We will weight the \"responses\" to the power spectra by the CSF."
   ]
  },
  {
   "cell_type": "code",
   "execution_count": null,
   "id": "d0855bec",
   "metadata": {},
   "outputs": [],
   "source": [
    "# CSF based on Kelly (1979)\n",
    "csfK = csf_kelly(np.sqrt((fy**2. + fx**2.)), tf=2.5)  # tf=2.5\n",
    "\n",
    "# CSF based on castleCSF (Ashraf et al., 2024) imported from Matlab\n",
    "mat_contents = sio.loadmat(\"castleCSF_schmittwilken2024.mat\")\n",
    "csfC = mat_contents[\"csf\"]\n",
    "matSF = mat_contents[\"fd\"]\n",
    "print(np.unique(matSF - np.sqrt(fx**2 + fy**2))) # are we using the same SFs?"
   ]
  },
  {
   "cell_type": "code",
   "execution_count": null,
   "id": "fdc14950",
   "metadata": {},
   "outputs": [],
   "source": [
    "plt.figure(figsize=(8,2));\n",
    "plt.subplot(131); plt.imshow(csfK, extent=fextent, cmap=\"coolwarm\"); plt.title(\"Kelly-CSF\")\n",
    "plt.subplot(132); plt.imshow(csfC, extent=fextent, cmap=\"coolwarm\"); plt.title(\"castle-CSF\")\n",
    "plt.subplot(133)\n",
    "plt.plot(fs1d, csfK[int(nX/2),int(nX/2)::]/csfK.max(), \"-\", label=\"Kelly-CSF\");\n",
    "plt.plot(fs1d, csfC[int(nX/2),int(nX/2)::]/csfC.max(), \"-\", label=\"castle-CSF\"); plt.legend();\n",
    "#plt.savefig('csf_profiles.png', dpi=300)"
   ]
  },
  {
   "cell_type": "code",
   "execution_count": null,
   "id": "17d8550e",
   "metadata": {},
   "outputs": [],
   "source": [
    "csfType = \"kelly\"     # using \"kelly\" or \"castle\" CSF models\n",
    "\n",
    "weight = csfK if csfType == \"kelly\" else csfC"
   ]
  },
  {
   "cell_type": "markdown",
   "id": "7cfcad7a",
   "metadata": {},
   "source": [
    "## Compute expected interference (via correlation)\n",
    "\n",
    "Based on the idea of channel-specific interference, we assume that if edge spectra and noise spectra are more similar (ie. occupying the same channels), the stronger the masking effect.\n",
    "\n",
    "We quantify this by simply computing a correlaton between each edge spectrum and each noise spectrum, and compare the resulting similarity pattern with the empirical data."
   ]
  },
  {
   "cell_type": "code",
   "execution_count": null,
   "id": "6dd44c08",
   "metadata": {},
   "outputs": [],
   "source": [
    "interference = \"mult\"\n",
    "\n",
    "corrSpt = np.zeros([nEdges, nNoises-1]); corrAct = np.zeros([nEdges, nNoises-1])\n",
    "if interference == \"corr\":\n",
    "    # Correlate each edge and noise spectra\n",
    "    for ei, e in enumerate(edgePows):\n",
    "        for ni, n in enumerate(noisePows[1::]):\n",
    "            corrSpt[ei, ni] = np.corrcoef((e*weight).flatten(), (n*weight).flatten())[0, 1]\n",
    "            corrAct[ei, ni] = np.corrcoef((e*weight*driftGain).flatten(), (n*weight*driftGain).flatten())[0, 1]\n",
    "else:\n",
    "    # Multiply edge and noise spectra\n",
    "    for ei, e in enumerate(edgePows):\n",
    "        for ni, n in enumerate(noisePows[1::]):\n",
    "            corrSpt[ei, ni] = ((e*weight) * (n*weight)).sum()\n",
    "            corrAct[ei, ni] = ((e*weight*driftGain) * (n*weight*driftGain)).sum()"
   ]
  },
  {
   "cell_type": "code",
   "execution_count": null,
   "id": "b65422b1",
   "metadata": {},
   "outputs": [],
   "source": [
    "# Normalize correlations to threshold range per edge for comparability\n",
    "empThreshN = np.zeros(empThresh.shape)\n",
    "for ei in range(nEdges):\n",
    "    corrSpt[ei, :] = normRange(corrSpt[ei, :], empThresh[ei, :].min(), empThresh[ei, :].max())\n",
    "    corrAct[ei, :] = normRange(corrAct[ei, :], empThresh[ei, :].min(), empThresh[ei, :].max())"
   ]
  },
  {
   "cell_type": "code",
   "execution_count": null,
   "id": "1b561938",
   "metadata": {},
   "outputs": [],
   "source": [
    "# Compute log-thresholds\n",
    "corrSptLog = np.log(corrSpt)\n",
    "corrActLog = np.log(corrAct)\n",
    "empThreshLog = np.log(empThresh)"
   ]
  },
  {
   "cell_type": "code",
   "execution_count": null,
   "id": "18544fce",
   "metadata": {},
   "outputs": [],
   "source": [
    "fig, axes = plt.subplots(1, 3, figsize=(6, 1), sharex=True, sharey=True)\n",
    "fig.subplots_adjust(wspace=0.05)\n",
    "for ei in range(nEdges):\n",
    "    axes[0].plot(noiseNames[1::], empThreshLog[-ei-1, :], '.-', color=eCol[ei])\n",
    "    axes[1].plot(noiseNames[1::], corrSptLog[-ei-1, :], '.:', color=eCol[ei])\n",
    "    axes[2].plot(noiseNames[1::], corrActLog[-ei-1, :], '.--', color=eCol[ei])\n",
    "    axes[ei].grid(True, color=[0.9,]*3); axes[ei].set(xticklabels=[], ylim=(-7,-3))\n",
    "axes[0].set(ylabel=\"Thresholds (log)\");\n",
    "#plt.savefig('interference.png', dpi=300)\n",
    "    \n",
    "# Compute deviation from empirical data\n",
    "fig, axes = plt.subplots(1, 3, figsize=(6, 1), sharex=True, sharey=True)\n",
    "fig.subplots_adjust(wspace=0.05)\n",
    "for ei in range(nEdges):\n",
    "    axes[ei].axhline(0, color=\"k\", linestyle=\"-\", linewidth=0.5)\n",
    "    axes[1].plot(noiseNames[1::], corrSptLog[-ei-1, :]-empThreshLog[-ei-1, :], '.:', color=eCol[ei])\n",
    "    axes[2].plot(noiseNames[1::], corrActLog[-ei-1, :]-empThreshLog[-ei-1, :], '.--', color=eCol[ei])\n",
    "    axes[ei].grid(True, color=[0.9,]*3); axes[ei].set(xticklabels=[], yticks=(-2,0,2), ylim=(-2.5,2.5))\n",
    "axes[0].set(ylabel=\"${\\Delta}$ threshold\");\n",
    "#plt.savefig('deviation.png', dpi=300)\n",
    "\n",
    "print(\"Mean deviation static:\\t\", np.abs(corrSptLog - empThreshLog).mean())\n",
    "print(\"Mean deviation dynamic:\\t\", np.abs(corrActLog - empThreshLog).mean())"
   ]
  },
  {
   "cell_type": "markdown",
   "id": "b9201ed6",
   "metadata": {},
   "source": [
    "# Results of mechanistic modeling\n",
    "\n",
    "## Multi-scale models"
   ]
  },
  {
   "cell_type": "code",
   "execution_count": null,
   "id": "82b96dba",
   "metadata": {},
   "outputs": [],
   "source": [
    "def getModelThresh(rf):\n",
    "    with open(rf, 'rb') as handle:\n",
    "        moData = pickle.load(handle)\n",
    "    moPCs = moData[\"pcs\"][::-1,1::,:]\n",
    "    moContrasts = moData[\"contrasts\"][::-1,1::,:]\n",
    "    return np.take_along_axis(moContrasts, np.argmin(np.abs(moPCs-0.75), axis=2, keepdims=True), axis=2)\n",
    "\n",
    "try:\n",
    "    # Load psicurve data from pickles\n",
    "    moThreshSp = np.log(getModelThresh('../mechanistic_models/results/spatial_multi_psicurve.pickle'))   \n",
    "    moThreshAc = np.log(getModelThresh('../mechanistic_models/results/active_multi_psicurve.pickle')) \n",
    "    \n",
    "    fig, axes = plt.subplots(1, 3, figsize=(6, 1), sharex=True, sharey=True)\n",
    "    fig.subplots_adjust(wspace=0.05)\n",
    "    for ei in range(nEdges):\n",
    "        axes[0].plot(noiseNames[1::], empThreshLog[-ei-1, :], '.-', color=eCol[ei])\n",
    "        axes[1].plot(noiseNames[1::], moThreshSp[-ei-1, :], '.:', color=eCol[ei])\n",
    "        axes[2].plot(noiseNames[1::], moThreshAc[-ei-1, :], '.--', color=eCol[ei])\n",
    "        axes[ei].grid(True, color=[0.9,]*3); axes[ei].set(xticklabels=[], ylim=(-7,-3))\n",
    "    axes[0].set(ylabel=\"Thresholds (log)\");\n",
    "    #plt.savefig('model_thresholds.png', dpi=300)\n",
    "\n",
    "    # Compute deviation from empirical data\n",
    "    fig, axes = plt.subplots(1, 3, figsize=(6, 1), sharex=True, sharey=True)\n",
    "    fig.subplots_adjust(wspace=0.05)\n",
    "    for ei in range(nEdges):\n",
    "        axes[ei].axhline(0, color=\"k\", linestyle=\"-\", linewidth=0.5)\n",
    "        axes[1].plot(noiseNames[1::], moThreshSp[-ei-1, :,0]-empThreshLog[-ei-1, :], '.:', color=eCol[ei])\n",
    "        axes[2].plot(noiseNames[1::], moThreshAc[-ei-1, :,0]-empThreshLog[-ei-1, :], '.--', color=eCol[ei])\n",
    "        axes[ei].grid(True, color=[0.9,]*3); axes[ei].set(xticklabels=[], yticks=(-1,0,1), ylim=(-1.1,1.1))\n",
    "    axes[0].set(ylabel=\"${\\Delta}$ threshold\");\n",
    "    #plt.savefig('model_deviation.png', dpi=300)\n",
    "    \n",
    "    print(\"Mean deviation static:\\t\", np.abs(moThreshSp[:,:,0] - empThreshLog).mean())\n",
    "    print(\"Mean deviation dynamic:\\t\", np.abs(moThreshAc[:,:,0] - empThreshLog).mean())\n",
    "    \n",
    "except:\n",
    "    print(\"No results file found\")"
   ]
  },
  {
   "cell_type": "markdown",
   "id": "a3ed0760",
   "metadata": {},
   "source": [
    "## Single-scale models"
   ]
  },
  {
   "cell_type": "code",
   "execution_count": null,
   "id": "1661c5c8",
   "metadata": {},
   "outputs": [],
   "source": [
    "try:\n",
    "    # Load psicurve data from pickles\n",
    "    moThreshSp = np.log(getModelThresh('../mechanistic_models/results/spatial_single_psicurve.pickle'))   \n",
    "    moThreshAc = np.log(getModelThresh('../mechanistic_models/results/active_single_psicurve.pickle')) \n",
    "    \n",
    "    fig, axes = plt.subplots(1, 3, figsize=(6, 1), sharex=True, sharey=True)\n",
    "    fig.subplots_adjust(wspace=0.05)\n",
    "    for ei in range(nEdges):\n",
    "        axes[0].plot(noiseNames[1::], empThreshLog[-ei-1, :], '.-', color=eCol[ei])\n",
    "        axes[1].plot(noiseNames[1::], moThreshSp[-ei-1, :], '.:', color=eCol[ei])\n",
    "        axes[2].plot(noiseNames[1::], moThreshAc[-ei-1, :], '.--', color=eCol[ei])\n",
    "        axes[ei].grid(True, color=[0.9,]*3); axes[ei].set(xticklabels=[], ylim=(-7,-3))\n",
    "    axes[0].set(ylabel=\"Thresholds (log)\");\n",
    "    #plt.savefig('single_thresholds.png', dpi=300)\n",
    "\n",
    "    # Compute deviation from empirical data\n",
    "    fig, axes = plt.subplots(1, 3, figsize=(6, 1), sharex=True, sharey=True)\n",
    "    fig.subplots_adjust(wspace=0.05)\n",
    "    for ei in range(nEdges):\n",
    "        axes[ei].axhline(0, color=\"k\", linestyle=\"-\", linewidth=0.5)\n",
    "        axes[1].plot(noiseNames[1::], moThreshSp[-ei-1, :,0]-empThreshLog[-ei-1, :], '.:', color=eCol[ei])\n",
    "        axes[2].plot(noiseNames[1::], moThreshAc[-ei-1, :,0]-empThreshLog[-ei-1, :], '.--', color=eCol[ei])\n",
    "        axes[ei].grid(True, color=[0.9,]*3); axes[ei].set(xticklabels=[], yticks=(-1,0,1), ylim=(-1.1,1.1))\n",
    "    axes[0].set(ylabel=\"${\\Delta}$ threshold\");\n",
    "    #plt.savefig('single_deviation.png', dpi=300)\n",
    "    \n",
    "    print(\"Mean deviation static:\\t\", np.abs(moThreshSp[:,:,0] - empThreshLog).mean())\n",
    "    print(\"Mean deviation dynamic:\\t\", np.abs(moThreshAc[:,:,0] - empThreshLog).mean())\n",
    "    \n",
    "except:\n",
    "    print(\"No results file found\")"
   ]
  },
  {
   "cell_type": "code",
   "execution_count": null,
   "id": "b5248028",
   "metadata": {},
   "outputs": [],
   "source": []
  }
 ],
 "metadata": {
  "kernelspec": {
   "display_name": "Python 3 (ipykernel)",
   "language": "python",
   "name": "python3"
  },
  "language_info": {
   "codemirror_mode": {
    "name": "ipython",
    "version": 3
   },
   "file_extension": ".py",
   "mimetype": "text/x-python",
   "name": "python",
   "nbconvert_exporter": "python",
   "pygments_lexer": "ipython3",
   "version": "3.10.12"
  },
  "toc": {
   "base_numbering": 1,
   "nav_menu": {},
   "number_sections": true,
   "sideBar": true,
   "skip_h1_title": false,
   "title_cell": "Table of Contents",
   "title_sidebar": "Contents",
   "toc_cell": false,
   "toc_position": {},
   "toc_section_display": true,
   "toc_window_display": false
  },
  "varInspector": {
   "cols": {
    "lenName": 16,
    "lenType": 16,
    "lenVar": 40
   },
   "kernels_config": {
    "python": {
     "delete_cmd_postfix": "",
     "delete_cmd_prefix": "del ",
     "library": "var_list.py",
     "varRefreshCmd": "print(var_dic_list())"
    },
    "r": {
     "delete_cmd_postfix": ") ",
     "delete_cmd_prefix": "rm(",
     "library": "var_list.r",
     "varRefreshCmd": "cat(var_dic_list()) "
    }
   },
   "types_to_exclude": [
    "module",
    "function",
    "builtin_function_or_method",
    "instance",
    "_Feature"
   ],
   "window_display": false
  }
 },
 "nbformat": 4,
 "nbformat_minor": 5
}
